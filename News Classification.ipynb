{
 "cells": [
  {
   "cell_type": "markdown",
   "metadata": {},
   "source": [
    "#  COMP24112 Lab 2: News Article Classification by k-NN\n",
    "\n",
    "## 1. Task description\n",
    "\n",
    "You will work on a news article classification task.\n",
    "The provided dataset includes a total of 800 articles taken from Reuters newswire.\n",
    "They belong to 4 classes: \"earn\" (0), \"crude\" (1), \"trade\" (2) and \"interest\" (3).\n",
    "There are 200 articles per class.\n",
    "Each article is characterised by word occurrences.\n",
    "The list of used words is called a vocabulary.\n",
    "In our dataset, the vocabulary includes a total of 6428 words. "
   ]
  },
  {
   "cell_type": "markdown",
   "metadata": {},
   "source": [
    "## 2. Preparation\n",
    "\n",
    "First we need to import the data.\n",
    "Run the below cell to load the data using NumPy."
   ]
  },
  {
   "cell_type": "code",
   "execution_count": 480,
   "metadata": {},
   "outputs": [],
   "source": [
    "import numpy as np\n",
    "import matplotlib.pyplot as plt\n",
    "import scipy.sparse\n",
    "\n",
    "data, labels, class_names, vocabulary = np.load(\"ReutersNews_4Classes_sparse.npy\", allow_pickle=True)"
   ]
  },
  {
   "cell_type": "markdown",
   "metadata": {},
   "source": [
    "### A Note on Sparsity\n",
    "\n",
    "Most documents only contain a small subset of the vocabulary, resulting in a very sparse data matrix.\n",
    "To handle the sparsity, in this exercise `data` is represented as a `scipy.sparse.csr_matrix`, which can store sparse matrices efficiently while still allowing efficient row-based indexing.\n",
    "You can learn more about `csr_matrix` and other ways of dealing with sparse matrices at https://docs.scipy.org/doc/scipy/reference/sparse.html.\n",
    "\n",
    "Note, however, that `data` is **not** a normal NumPy array.\n",
    "While most operations will be the same as with a normal dense array, **you cannot use a sparse matrix to index another matrix**.\n",
    "If you need to do this, either first convert the matrix to a NumPy array with the `toarray()` method, or use methods specifically designed to work with sparse matrices."
   ]
  },
  {
   "cell_type": "code",
   "execution_count": 481,
   "metadata": {},
   "outputs": [
    {
     "name": "stdout",
     "output_type": "stream",
     "text": [
      "  (0, 2)\t1\n",
      "  (0, 3)\t3\n",
      "  (0, 5)\t1\n",
      "  (0, 8)\t1\n",
      "  (0, 10)\t1\n",
      "  (0, 11)\t1\n",
      "  (0, 12)\t1\n",
      "  (0, 13)\t1\n",
      "  (0, 21)\t2\n",
      "  (0, 24)\t1\n",
      "  (0, 105)\t1\n",
      "  (0, 127)\t1\n",
      "  (0, 227)\t1\n",
      "  (0, 275)\t1\n",
      "  (0, 334)\t2\n",
      "  (0, 341)\t1\n",
      "  (0, 348)\t1\n",
      "  (0, 359)\t1\n",
      "  (0, 411)\t1\n",
      "  (0, 426)\t1\n",
      "  (0, 1428)\t1\n",
      "  (0, 2058)\t1\n",
      "  (0, 5555)\t1\n",
      "[[0 0 1 ... 0 0 0]]\n",
      "['share' 'split' 'say' 'two-for-one' 'shareholder' 'annual' 'meeting'\n",
      " 'reuter' 'ct' 'note' 'company' 'pay' 'subject' 'increase' 'stock'\n",
      " 'dividend' 'april' 'northern' 'declare' 'approval' 'telecom' 'post-split'\n",
      " 'nt']\n"
     ]
    }
   ],
   "source": [
    "print(data[41,:]) # A sparse row vector; the output will be the non-zero indices and their values.\n",
    "print(data[41,:].toarray()) # Convert back to a NumPy array. Note that the result is a (1, 6428) matrix, not a vector.\n",
    "# print(vocabulary[data[41,:] > 0]) # Can't index vocabulary with a sparse matrix.\n",
    "rows, columns, values = scipy.sparse.find(data[41,:]) # Find the non-zero entries in the 42nd document.\n",
    "print(vocabulary[columns]) # Prints the words present in the 42nd document."
   ]
  },
  {
   "cell_type": "markdown",
   "metadata": {},
   "source": [
    "To see the full vocabulary, you can run"
   ]
  },
  {
   "cell_type": "code",
   "execution_count": 482,
   "metadata": {
    "scrolled": true
   },
   "outputs": [
    {
     "name": "stdout",
     "output_type": "stream",
     "text": [
      "island, telephone, share, split, approve, say, previously, announce, two-for-one, common, shareholder, annual, meeting, reuter, year, net, shr, loss, nil, vs, profit, ct, rev, mln, note, current, include, charge, discontinue, operation, dlr, ec, state, tax, majority, european, community, member, strong, reservation, import, domestically-produced, oil, fat, propose, commission, senior, diplomat, special, committee, agricultural, expert, voice, objection, measure, prepare, ground, farm, begin, monday, add, france, italy, indicate, support, proposal, lead, initially, tonne, 1987/88, price, round, complete, sale, french, unit, business, compagnie, francaise, group, investor, employee, minnesota, disclose, term, deal, plan, asset, electronic, shoe, town, end, jan, respectively, december, wisconsin, fwb, buy, bank, corp, acquire, bancshare, cash, acquisition, hold, company, total, billion, purchase, time, earning, office, paul, area, american, product, 3rd, qtr, period, feb, mth, avg, 4th, seven, entertainment, publication, disposal, pay, store, correct, mobil, mob, upgrade, refinery, spend, texas, catalytic, convert, component, gasoline, use, super, unleaded, allow, continuous, basis, shutdown, currently, shut, twice, produce, barrel, day, construction, start, late, completion, set, output, inc., result, slightly, ab, weakening, dollar, cause, drop, chief, executive, good, final, report, release, earlier, allocation, crown, compare, despite, fall, industrial, high, car, truck, completely, sell, year-end, operate, income, financial, strength, exceptional, opportunity, invest, future, meridian, energy, letter, intent, development, privately-held, decide, terminate, exclude, quarter, extraordinary, gain, british, minister, discuss, public, spending, finance, need, control, talk, today, chancellor, exchequer, nigel, lawson, treasury, spokesman, review, economy, domestic, decline, comment, subject, concerted, action, arise, u., currency, dip, sharply, week, month, relative, stability, agreement, major, industrialised, nation, paris, february, stabilise, feed, heller, urge, broad, reform, aid, banking, federal, reserve, board, governor, robert, strengthen, permit, formation, service, involve, like, insurance, real, estate, security, speech, delivery, new, york, analyst, association, believe, increase, diversification, line, key, idea, advocate, regulation, various, thrift, investment, subsidiary, handle, limit, place, extension, credit, associate, institution, transaction, necessary, avoid, abuse, position, require, serve, make, commitment, maintain, capital, word, fail, long, positive, commercial, enterprise, provision, flow, effect, corporation, customer, deposit, assure, incentive, remove, access, national, international, united, mean, steady, america, world, table, competitive, department, qtly, div, pct, 2-for-1, stock, cie, advance, science, datum, available, raise, dividend, quarterly, form, ask, number, payable, pre-split, april, record, distribute, receive, commonwealth, settlement, debt, stockholder, california, concern, title, northern, county, costa, san, home, saving, initial, cotton, u.s., run, season, census, bureau, brand, bp, manage, director, hike, standard, offer, user, merger, pacific, union, processing, mutually, agree, withdraw, negotiation, sign, merge, november, continue, ownership, commit, additional, history, expect, after-tax, close, primarily, direct, mail, marketing, likely, meet, growth, goal, lose, industry, regular, payout, declare, class, equal, prior, manufacturing, paper, dunn, jame, river, partly, reduce, contingent, payment, offset, closing, approval, satisfactory, labor, old, republic, int'l, june, crn, money, market, mutual, fund, expectation, value, petroleum, plc, half, signal, patch, think, bid, clear, confidence, higher, sanford, margosh, shearson, lehman, brother, early, tender, opec, win, war, crack, bruce, huge, implication, rest, issue, particularly, target, mention, usx, court, draw, attention, australian, holme, rumor, foresee, firm, takeover, situation, exception, possibly, partner, ago, restructure, point, rally, response, exxon, xon, rise, 1-1/8, chevron, chv, jump, texaco, tx, climb, 1/4, unocal, ucl, 1-3/4, occidental, amoco, 6-1/4, heavy, trading, session, wall, speculate, boost, 2-1/4, fact, giant, change, outlook, stay, hasty, view, look, long-term, heart, exceed, benchmark, crude, west, intermediate, trade, able, bright, alaskan, prudhoe, bay, field, north, extremely, attractive, large, just, fit, dean, witter, eugene, ahead, government, u.k., dispose, way, unite, revenue, cable, acre, co., finalize, bancorp, universal, holding, contract, obligation, chairman, freedom, recognize, first-quarter, defer, complex, recognition, come, repayment, loan, grant, commerce, house, dec, investigate, assurance, succeed, experience, negative, waiver, marine, midland, working, guarantee, secure, substantially, bernard, president, act, officer, engineering, halt, software, shipment, temporarily, technical, problem, program, anticipate, resume, fourth, oper, adjust, reverse, october, fair, lane, right, realty, research, backlog, cardena, decision, jorge, manager, colombia, coffee, federation, important, emerge, upcoming, organization, london, march, council, export, quota, routine, happen, unlikely, tell, journalist, suspend, failure, colombian, reporter, weekly, brazil, far, apart, prompt, yesterday, policy, know, project, stockpile, level, producer, accord, statistic, shortfall, regulatory, agency, 1st, earn, year-ago, tobacco, strike, introduce, low-priced, cigarette, performance, operating, trader, soviet, sugar, raw, night, hand, discount, spot, source, japanese, cargo, thai, relatively, nearby, remain, sharp, help, provoke, cover, cent, pound, limited, trust, date, proceed, hilton, holder, cease, liquidate, worth, debenture, substitute, distribution, connection, represent, balance, satisfy, liability, second, vote, profitable, follow, specific, figure, definitely, news, amendment, certificate, relate, center, property, plastic, work, denis, consumer, delegate, formally, present, friday, widespread, outstanding, item, reach, bilateral, consultation, delegation, main, draft, rule, package, certain, want, discussion, differential, different, origin, forward, material, minor, modification, original, intend, single, candidate, post, coast, exist, gmt, management, pledge, provide, expand, base, combustion, csp, environmental, principle, e.c, jordan, privately, pom, potomac, electric, power, virginia, territory, mainly, low, margin, cost, enter, head, design, manufacture, restructuring, adversely, affect, realize, significant, expense, remainder, pact, ohio, wholly, warrant, creditor, thing, micro, device, develop, chip, gate, complexity, harden, n.y, book, acceptance, nationally, schedule, borrowing, city, borrow, wednesday, two-week, statement, assumption, preferred, reorganization, resource, equivalent, previous, 3-for-2, effective, entitle, arsenal, determine, small, fiscal, attribute, pressure, cut, gross, addition, incur, aim, productivity, undertake, extend, hour, salary, job, save, annually, care, supply, average, free, depressed, seasonally, revise, economist, poll, forecast, forgiveness, dealer, collapse, foreign, exchange, speculation, germany, big, crash, stand, damage, claim, case, seek, mark, accuse, manipulate, private, great, recently, appeal, people, medical, evidence, life, crucial, hernandez, arturo, grisanti, regional, exporter, critical, effort, achieve, recovery, stabilize, non-opec, danger, reversal, really, movement, depend, venezuela, speak, opening, fifth, ministerial, informal, latin, caribbean, ecuador, mexico, attend, conference, observer, combat, congress, jaime, lusinchi, miraflore, presidential, palace, javi, espinosa, jose, assistant, secretary, perry, rubio, howard, b., significantly, inventory, potential, possible, shift, demand, brazilian, natural, gas, production, petrobras, basin, country, bpd, consumption, derivative, fuel, medium, general, central, three-for-two, white, semiconductor, economic, recommendation, reagan, retaliate, japan, alleged, unfair, practice, official, retaliation, curb, impose, senate, unanimously, penality, hard, hit, summer, stop, dump, open, return, anti-dumping, duty, semiconductors., indiana, plant, stake, chicago, banker, sec, try, gold, study, recommend, water, license, arrangement, appropriate, financing, estimate, feasibility, canadian, short, yield, rate, probable, ore, grade, yearly, break, zone, considerable, red, lake, mp, coal, related, nominal, consideration, specify, alberta, michael, retain, unspecified, royalty, reclamation, expire, reclaim, activity, occur, principal, authorize, proposed, article, option, broaden, multinational, sweden, variety, instead, optimistic, grow, leadership, intelligence, defense, congressional, joint, improve, worker, attitude, equipment, account, adopt, bring, apparent, solution, immediate, lack, appear, count, n't, marshall, goldman, harvard, university, hearing, fast, step, similar, peter, institute, advanced, commodity, discourage, innovation, technological, resistance, overall, surface, massive, party, complain, carry, conflict, quality, predict, technology, microprocessor, allowance, writedown, preliminary, finding, conduct, examination, authority, adjustment, deplete, environment, improvement, near, portfolio, non-performing, marathon, macmillan, ctc, ontario, ruling, uphold, block, hear, alfre, david, leave, join, motion, restate, reflect, january, delay, force, sheet, omaha, writeoff, subordinated, gatt, warn, budget, protectionism, emphasis, deficit, misplace, lie, agreeement, tariff, stress, protectionist, threaten, fundamental, size, remedie, encourage, personal, percentage, washington, resist, macroeconomic, barrier, little, reduction, inflation, basic, combination, insufficient, excessive, expansion, slow, workforce, risk, loom, imbalance, explanation, prediction, realignment, bear, sizeable, combined, impact, rapidly, worsen, climate, uncertainty, push, turn, trade., surprising, depreciation, expensive, suggest, idle, human, underutilised, factory, gear, abroad, stagnant, pattern, sector, decade, moderately, indebted, chile, philippine, south, korea, thailand, smelter, northw, mid-may, capacity, lease, corp., reopen, successful, unchanged, index, consecutive, year-on-year, september, winter, clothing, vegetable, electricity, housing, education, footwear, unadjusted, tokyo, food, utility, n.z, zealand, statistical, panel, sanction, violation, u.s.-japanese, administration, announcement, frustration, probably, consult, aide, persuade, abide, july, govern, u.s.-made, dumping, closed, unanimous, penalty, contain, semiconductor-based, television, video, cassette, recorder, nakasone, visit, prime, yasuhiro, week-long, cabinet, masaharu, gotoda, resolve, friction, venice, summit, western, democracy, tadashi, kuranari, accompany, ministry, violate, microchip, asia, australia, bp.l, compensation, subsidy, refiner, partially, enable, modest, pre-tax, pct-owned, sustain, exploration, endeavour, 33-1/3, chemical, maker, farmer, finalise, nitrogen, anz, jardine, h.k, turnover, bonus, par, august, broken, hill, pty, brkn., minority, mineral, steel, corporate, adjusted, finish, machine, tape, machinery, downturn, planning, gnp, match, balanced, four-for-one, ordinary, quote, simon, section, especially, hong, kong, land, fleming, lower, reorganisation, strain, flexibility, recent, pende, exercise, nearly, transfer, hk, strategic, spin, dairy, plus, cross, transform, middle, east, weakness, strategy, structure, policy., create, midday, rumour, 1985/86, range, register, qualify, tax-free, introduction, imputation, rank, influence, legislation, confine, division, generally, volume, bass, strait, operational, difficulty, largely, iron, southern, cement, acreage, surplus, lobby, agriculture, usda, taiwan, fulfil, protest, award, dominican, taiwanese, list, badly, lay, staff, entire, container, ship, cancel, local, press, later, file, protection, law, china, morning, charle, comprise, singapore, manila, seoul, osaka, provisional, survey, 1986/87, certainly, long-standing, reason, peso, ready, throw, submit, corazon, aquino, wait, election, enjoy, drive, longer, region, learn, mistake, diversify, corn, farming, cloth, lesson, diversified, industry., room, renewal, write, revive, subsidise, markets., uneconomical, bullish, artificial, happy, supplier, restore, watch, slash, suit, danish, cooperative, yen, anger, telecom, dispute, equity, telecommunication, legal, telecommunications, send, postal, malcolm, baldrige, object, participation, express, oppose, role, dampen, opposition, compete, monopoly, wireless, cawl.l, ford, motor, citibank, na, cci, digital, communication, merrill, lynch, mer, competitor, reject, argue, precedent, channel, dilute, eventually, bache, political, leverage, wo, diplomatic, reasonable, sort, watanabe, keidanren, arrange, outline, thursday, newspaper, britain, apply, placement, participate, wake, spark, herald, subsequent, one-for-four, radio, station, belgian, parent, metal, link, appreciation, defence, document, defend, itself, stg, pretax, u.k, england, shortage, factor, liquidity, mature, drain, aluminium, smelt, past, cheap, primary, indonesia, calendar, tight, recover, weak, dominate, segment, passenger, light, vehicle, suffer, profitability, erode, lift, penetration, buyer, netherland, ban, suspect, foot, mouth, daniel, notify, km, northeast, province, immediately, milk, beef, alternative, canada, al, swap, deputy, jeremy, davis, broadly, nz, overseas, closer, relation, treaty, accept, normally, invite, consolidated, attributable, franc, priority, ag, anticipated, mass, dieter, satisfied, 1984/85, projection, employ, barber, conable, sake, contribution, businessman, academic, support., assist, road, bridge, infrastructure, advantage, rechannelle, notably, india, faster, developed, concessionary, lending, affiliate, ida, reconstruction, ibrd, structural, competition, maybe, und, refine, concentrate, core, five-year, convertible, redeemable, spain, assistance, daily, oblige, borrower, window, normal, overnight, suspension, 10-day, accounting, requirement, peseta, hard-pressed, soothe, defuse, mount, chance, success, slim, box, powerful, ronald, congressman, coincide, retaliatory, live, arm, separate, pep, sagge, short-term, redirect, away, over-dependence, infighting, rob, punch, prevent, insist, pass, parliament, fear, tacit, admission, inadequate, hope, quick, passage, trip, shatter, parliamentary, boycott, face, possibility, virtually, empty-handed, order, liberal, democratic, ldp, deregulation, benefit, accelerate, portion, democrat-controlled, complement, longer-term, high-ranking, advisory, body, haruo, maekawa, concrete, follow-up, potentially, politically, explosive, explicit, reality, subcommittee, consider, undergo, amounte, gradual, outright, band, 9-13/16, intervene, dealing, intervention, aggressive, selling, ease, bundesbank, touch, test, fairly, contrast, progressive, launch, supermarket, minimum, one-for-one, debate, lately, buying, programme, highlight, worldwide, destination, turkey, libya, worthwhile, enquiry, proportion, operator, tighten, considerably, eastern, react, upwards, physical, interim, pakistan, shortly, originally, tomorrow, egypt, arrival, greece, internal, sa, mining, sum, elaborate, societe, countertrade, gap, search, non-communist, conserve, wheat, tea, jute, impetus, stc, mmtc, respect, bulk, promote, indian, spokeswoman, targette, bloc, non-convertible, rupee, textile, narrow, insignificant, shrink, dynamism, discreetly, officially, bartering, yugoslavia, rail, global, clause, preference, kind, flexible, quietly, interested, aircraft, drill, rig, railway, illustrate, korean, drilling, platform, state-run, wholesale, 2nd, carryforward, wage, one-third, transportation, responsible, fish, drug, apparel, spring, merchandise, man, mmb, weather, disrupt, sea, shipping, saturday, rain, wind, tonight, frequent, southwest, northwest, wave, build, diminish, weekend, suez, lloyd, port, chamber, monthly, expected, german, so-called, grey, illegal, pose, hedge, dollar-denominated, third-party, centre, swiftly, mohamme, keen, contentious, concession, question, prove, assign, soon, fully, advise, yr, closely, st., mortgage, servicing, combine, origination, afternoon, austria, austrian, deny, suggestion, vienna, creditanstalt, girozentrale, aware, purely, purpose, han, obtain, application, process, procedure, facility, equally, non-recurring, revaluation, offering, restaurant, manhattan, headquarters, sept, distributor, manufacturer, family, trend, fee, analyze, double, dougla, moderate, particular, vice, identify, it., focus, broadcasting, electrical, consistently, poor, w., establish, expenditure, fine, smoke, condition, quickly, uk, revoke, licence, select, progress, ca, yes, cross-section, influential, increasingly, impatient, sense, urgency, undermine, margaret, thatcher, hesitate, reciprocal, clearly, mind, defict, coordinate, restrictive, feeling, inside, parliamentarian, conservative, refuse, authorise, london-based, legally-binding, channon, engage, collective, alan, clark, interview, certification, overnight., reciprocity, regard, visible, dominant, aspect, fairness., minimise, indication, weigh, wide, retail, building, course, prospect, temporary, indirectly, repurchase, 6-1/8, sydney, ltd., appliance, retroactively, capitalize, intangible, ability, ongoing, waste, removal, mar, outlet, promotional, information, des, nec, pricing, jerome, cornerstone, qtrly, contingency, drawing, fixed, zero, malaysian, malaysia, conclude, unable, implement, organize, assess, sun, publishing, publish, lewis, glamis, glgvf, rebound, florida, mile, offshore, louisiana, gulf, discovery, depth, sand, cubic, choke, owner, venture, oklahoma, slap, receiver, laser-printer, penalize, hitachi, toshiba, fujitsu, reaan, invoke, negotiator, extensive, avail, peg, intention, tuesday, spur, belief, repeat, switch, cargill, echo, warehouse, pick, tab, storage, stipulate, mandatory, disagree, lot, 'll, outside, walter, brown, verify, gather, caution, opinion, difference, pretty, plaza, travel, gro, francisco, 109-billion, rat, lawsuit, dilson, funaro, monetary, imf, carefully, space, post-split, soft, type, slump, tie, network, bond, imperial, tangible, pace, constructive, steam, pronounced, william, reynold, upward, volatile, picture, competitiveness, willing, tolerate, s.g, warburg, door, conclusion, reaffirm, n.a., pursue, adviser, instruct, grain, status, satellite, choose, battle, team, dutch, philip, sit, ally, df, 13-1/2, amid, chinese, engineer, underway, slide, scale, premium, fix, nigeria, weight, minstar, confirm, restrict, maximum, welcome, conform, ring, exclusively, dollar-based, conversion, sterling, alleviate, romania, attract, active, zinc, replace, difficult, totally, disappear, feature, volatility, presently, squeeze, deliver, widen, declaration, 25th, narrowly, notice, resident, charter, glass, dynamic, michigan, den, stage, liquid, seasonal, premi, relax, relaxation, surge, framework, emergency, professor, bit, liberalisation, end-february, angrily, allegedly, eiaj, shoichi, saba, premature, irrational, attempt, assessment, comply, agreement., governmental, reconsider, evaluate, objective, emotional, bias, heated, cut-price, american-made, salvage, multi-lateral, organisation, regret, tree, licensing, bulletin, arab, establishment, preserve, civil, devastate, productive, acceptable, meantime, protect, health, accession, postpone, scrap, abolish, evolution, foreigner, widely, wang, trouble, suitable, unacceptable, sound, conciliatory, bitter, row, explain, stance, thoroughly, kyodo, high-level, settle, formal, request, deadline, u.s./japan, investigation, asian, hammer, distinctly, hajime, tamura, miti, downplay, significance, remark, message, urgently, admit, geneva-based, police, legality, wishful, thinking, confident, unregulated, dry, acknowledge, ensure, tsba.t, likewise, islamic, idb, porfolio, redeem, emirate, wam, cooperation, gcc, bahrain, kuwait, oman, qatar, saudi, arabia, uae, restrain, mid-1986, boom, recession, fresh, coordination, quite, substantial, series, examine, kuwaiti, dinar, trade-weighted, theory, foster, stable, instrument, recognise, hamper, premier, three-year, vice-chairman, banque, morgan, guaranty, treasurer, bad, plunge, economically, brief, pave, soar, dictate, erupt, full-scale, adverse, relationship, isolate, fall-out, sure, perception, respond, that., spread, depict, severe, warning, belligerent, angry, walk, secret, draconian, enforce, irrational., meaningless., solve, convince, allegation, fuer, gemeinwirtschaft, bkfg.f, prospectus, turbulence, troubled, depress, compensate, emphasise, necessarily, debtor, deutsche, sumita, satoshi, beginning, careful, judgement, septemb, steep, stem, peru, garcia, jungle, ecuadorean, border, site, treatment, extract, u.s.-japan, refer, spare, sides., understand, all., observe, adhere, avert, hop, tone, auto, ignore, bidding, partnership, afg, reiterate, negotiate, conglomerate, fetch, inform, explore, prefer, green, correspond, george, cumulative, tropical, woolworth, indonesian, suharto, backdrop, devalue, rupiah, editorial, jakarta, deregulate, non-oil, steadily, burden, end-investor, cautious, coupon, 10-year, favourably, chain, effect., allege, defiance, non-u., chipmaker, non-regulated, 'm, nick, edward, matsushita, rapid, levy, length, erosion, tom, murtha, capel, altogether, harm, approach, contradiction, hurt, vast, carole, ryavec, salomon, stimulate, export-dependent, economy., luxembourg, deterioration, weaken, deteriorate, provisionally, circumstance, beneficial, moment, unusual, petrochemical, regime, newly, valid, frequently, envisage, 91-day, traditional, afford, allot, differ, underlie, guilde, image, shop, inflow, behalf, easy, comparison, supplement, calculation, cartel, ail, transport, yard, capable, renew, 1988/89, sluggish, favourable, taxation, excess, allocate, guideline, fight, hostile, packaging, swedish, mel, attach, hectare, sixth, healthy, monitor, contemplate, broker, auction, est, client, tour, pioneer, popularity, popular, clearing, sight, threat, lessen, external, commissioner, stabilisation, benefitte, initiative, prepared, modestly, john, organic, maintenance, hotel, end-1986, indirect, sach, berlin, commerzbank, cbkg.f, state-owned, bonn, high-technology, reliance, broadly-based, divide, exciting, method, barclay, independent, subscribe, continued, listing, retire, appoint, refrain, directly, seller, aggressively, grangemouth, explosion, accident, kill, person, hydrocracker, overhaul, african, kenya, flat, interbank, mechanism, chocolate, overhang, pull, doubt, rely, reaction, tool, manoeuvre, perfectly, sensitive, winner, effectively, scheme, sdr, disappoint, nv, surprise, apparently, favour, tate, await, organise, willingness, manner, colorado, coastal, repay, continental, motivate, 7-1/2, million, clarify, actively, gilt, gradually, three-month, fluctuate, bullishness, triton, consist, exploratory, conventional, miller, yugoslav, fso, fluctuation, calculate, belgrade, all-time, cite, automotive, injection, gm, peak, gdp, straight, wood, automobile, custom, texa, windfall, scientific, santa, mexican, petroleos, mexicano, pemex, auditor, arthur, andersen, qualified, subsequently, unisy, uis, newport, geneva, switzerland, pro, element, posted, sulphur, 6-3/8, bow, secondary, principally, seaman, calgary, montreal, mid-april, 're, criterion, formula, master, unitholder, brokerage, divestiture, bob, consistent, non-binding, seattle, contravene, event, highly, incident, reveal, remote, sufficient, outcome, dialogue, matter, agenda, representative, imagine, scheduled, blame, rica, damaging, solidarity, adoption, jopling, portugal, weighted, year-earlier, contribute, pipe, spotlight, congres, rap, enormous, symbol, crisis, symbolize, challenge, nuture, multitude, leader, byrd, democrat, speaker, jim, wright, wide-ranging, readie, dismay, sophisticated, host, citrus, tough, relief, controversial, rep., richard, gephardt, aspirant, missouri, example, mid-1988, tired, 'we, marketplace.', argument, refining, garment, maturity, definitive, merchant, lend, undeveloped, clayton, bt, itt, weakened, improved, netback, mediterranean, pipeline, sweet, sour, alaska, europe, brent, bonny, dubai, cif, iran, cruzado, devaluation, unclear, owe, permanently, golden, don, hughe, hug, execute, detroit, versus, perform, repair, athen, aggregate, silver, king, additionally, dalla, mr, fashion, f.w, roughly, processor, self-imposed, cereal, j.p, belgium, affair, scandal, approximately, jpm, mayfair, hanover, guard, park, alarm, houston, 2-1/2, advisor, heat, decrease, heating, gallon, unemployment, social, usual, arrive, correspondent, gerhard, stoltenberg, karl, otto, poehl, italian, blow, baker, meaningful, 2.0-2.5, repo, permanent, float, translate, patent, disposition, dominion, burlington, n.a, concerned, michel, query, publicly, thoma, unavailable, repeatedly, topic, consume, interesting, essentially, evening, medium-, setback, euromarket, furniture, restriction, sir, lengthy, disadvantage, montedison, spa, agro-industrial, characterize, renato, italiana, interstate, donald, entity, 4-7/8, true, story, play, heavily, fabric, outlay, johnson, enhance, unsuccessful, 5/8, last-ditch, makoto, kuroda, smith, smart, audio, likelihood, monitoring, honor, enforcement, injure, enact, counter, redress, inaccurate, supply-demand, carolina, mellon, marlin, fitzwater, spite, jone, terminal, rent, freddie, beer, guilder, spanish, el, s.a., van, africa, essential, nigerian, successfully, banana, finally, bar, moscow, 12-1/2, samuel, traditionally, shelf, aegean, armed, confrontation, ambassador, nazmi, akiman, greek, reply, turkish, content, reinvest, laser, regulator, criticize, dilution, safety, virtual, responsive, vary, installation, itc, momentum, attain, tranzonic, tnz, iii, atlantic, connect, earthquake, 90-day, iraqi, troop, iranian, iraq, occupy, command, victory, thrust, attack, warplane, tank, baghdad, plane, destroy, raid, shoot, naval, sink, boat, inspection, inspect, administrator, phase, disruption, pilot, airline, assume, realistic, vulnerable, rental, emphasize, escalate, kick, louis, tailor, irna, gholamreza, aqazadeh, manpower, training, exploitation, forum, consequently, slowly, generalize, discipline, restraint, imposition, tend, proved, wilson, stimulus, more., discover, stick, definition, dl, inclusion, one-time, copper, vice-president, consortium, hopeful, cp, historically, streamline, jeffrey, allen, preparation, costly, air, fare, lender, classify, nat'l, spirit, ccc, importer, usa, exclusive, duty-free, locate, wine, compliance, wojnilower, boston, albert, subvert, occasion, harder, justifiably, seriously, participant, hiccup, dress, end-of-fiscal-year, above-average, pick-up, unsustainable, ray, pratt, version, stewart, southeast, fertilizer, exposure, somewhat, ratio, leaseback, distance, strongly, card, nova, scotia, 12-month, survival, bancorporation, implementation, existence, dependent, trim, buoy, magnitude, stanley, volcker, downward, remedy, chase, industrialize, testimony, answer, persistent, worry, ceiling, extent, floor, breakdown, inability, chesebrough, chesebrough-pond, unilever, favorable, said., envision, slight, santo, onshore, oilfield, cast, end-1987, rio, cra, claus, koehler, speculative, separately, hiss, background, dash, let, sentiment, accommodative, surrey, regardless, diametrically, activity., monetarist, concretely, counterpoint, overly, reuter^m, journal, debit, complaint, withdrawal, unless, liquified, rationalisation, swiss, shanghai, ta, hua, modernise, domestically, catch, riyal, spot-next, spill, 6-3/16, 5-15/16, 7/8, edge, 6-3/4, suisse, confirmation, exempt, read, page, grace, disburse, utilisation, household, seventh, socialist, campaign, sunday, privatisation, director-general, la, sweeping, paribas, et, lombard, eliminate, algeria, erasable, programmable, memory, unfairly, proof, justified, subscription, basically, urgent, postwar, criticism, meeting., notable, annuity, hague, goodwill, g-7, appreciate, suppose, holiday, warmer, guidance, entry, presence, gelco, kingdom, pool, realise, district, bargaining, membership, suntrust, sti, argentine, cow, default, r., c., kansa, waive, boveri, bbc, bbcz.z, carlo, e.f, hutton, banco, 7-3/4, inject, category, mixed, slowdown, semi-annual, disappointment, cope, rout, sustained, wealthy, poorest, occasion., graphic, fhlbb, two-third, depository, adequate, consent, plc., restricted, esso, educational, sallie, mae, student, 5-14, mac, frankfurt, upper, unnamed, interior, omit, exchangeable, resign, s., t., leasing, demonstrate, growth., standstill, diamond, salt, incorporate, states., presentation, reference, briefly, canron, quebec, rotterdam, undercut, upturn, strictly, already., bethlehem, inland, efficient, turnaround, mid, 1/8, neutral, mix, diagnostic, pharmaceutical, hot, unlike, brasil, cacex, orderly, sustainable, policy-making, simply, compensatory, royal, roy, jersey, joseph, undervalue, months., rome, contact, retirement, notion, semiannual, so., mid-1990, game, cruz, accordance, instruction, obvious, drexel, lambert, burnham, accomplishment, comparable, kenneth, puerto, rico, liberty, citicorp, entirely, t-bill, bidder, consensus, informally, resolution, ctyn, rd, dutch/shell, fb, quantity, jeopardize, belong, involvement, counter-productive, brighten, greenshield, toronto, slip, curtail, ussr, juice, freeze, degree, amend, trigger, shp, beverage, shamrock, 20-year, evaluation, 1-1/2, adam, detailed, argentina, foremost, bankruptcy, trap, provincial, newhall, dependency, inevitable, disincentive, synthetic, foodstuff, receipt, conjunction, facilitate, dd, tract, conoco, hydrocarbon, patient, write-off, funding, direction, mcdonnell, strict, inch, extended, miss, minus, correction, tucker, address, mandate, worst, uplift, overcome, precision, jack, identity, chicken, favor, calling, medicine, fort, determination, agreed, hefty, wish, technique, tackle, tactic, unreasonable, stripper, arctic, wildlife, refuge, judge, illegally, jay, irve, dismiss, ottawa, edmonton, lukman, couple, annum, rilwanu, industrialise, swing, stimulation, inappropriate, helmut, kohl, severely, stretch, revision, die, condemn, speed, century, adherence, hint, modify, recoverable, one-fifth, endanger, caribou, lee, superior, ncnb, maryland, rejection, maximize, turmoil, false, misleading, richfield, arc, mold, shultz, selective, confront, impossible, reasonably, bold, champion, breach, punta, del, este, auspex, jamaican, resort, chair, jamaica, senegal, papua, guinea, coat, bcf, mideast, vital, military, mountain, camp, actual, logic, aspen, individual, dan, timing, undetermined, mercantile, hardware, metric, feel, interprovincial, shall, hr, norwegian, brass, burst, thousand, metre, shell, vessel, friendly, tanker, fly, task, planned, municipal, language, telegraph, andrew, inroad, continuation, mfn, one-year, hungary, fate, missile, republican, imply, enhancement, g., expanded, massachusett, modern, optimism, analysis, sam, veto, destine, legislator, enactment, persian, supporter, critic, bombing, leftist, army, ecopetrol, estimated, pump, columbian, recipient, hide, promising, constraint, liberalize, lifting, protected, surround, venezuelan, manuel, azpurua, one-half, norway, senator, appropriation, iran-iraq, contrary, furthermore, choice, mitigate, jawboning, barney, harris, upham, upside, westpac, indicator, anza., crane, shot, austerity, disaster, anxious, divert, usually, disagreement, budgetary, useful, colleague, unusually, promise, rice, 1990s, viability, intensify, overcapacity, variable, rupture, guillermo, dehesa, spell, drastic, plenty, gill, acid, unilateral, denman, multilaterally, dangerous, path, impede, six-month, pittsburgh, rush, shield, looming, scope, obstacle, abolition, coalition, swell, copy, lay-off, struggle, generate, autumn, cftc, abandon, unresolved, bro, comprehensive, satisfactorily, cepe, plain, petrocanada, fran, permission, ample, merely, arizona, code, future., high-tech, crossroad, destocke, boee, hydraulic, medium-term, mission, cd, york-based, forma, restart, south-east, two-day, tourist, regain, fadhil, al-chalabi, sacrifice, credibility, caraca, painful, conservation, easily, reflection, rebuild, buoyant, unveil, align, insure, self-sufficiency, embassy, intense, risky, audience, dismantling, dismantle, ireland, refusal, narrowing, inevitably, export-led, hongkong, overdraft, s.korea, won, condensate, marginal, excise, 5.5p, gauge, taxpayer, voluntary, telex, guide, pertamina, contractual, understanding, commencement, crush, reschedule, hardship, desire, upwardly, norman, der, alter, severance, frank, westminster, nwbl.l, rpt, intact, unwilling, fence, mildly, pessimistic, negotiable, presidency, unity, package., oil-rich, gasoline-rich, first-half, mirror, minimal, one-quarter, barter, reluctance, kleinwort, cts/bbl, novemb, calm, nervous, subsidize, posting, phillip, wti, spin-off, disappointing, bernstein, multiple, shc, edmonton/swann, bbl, imo.a, tultex, ttx, margarine, hugely, southland, dlrs/bbl, murphy, permian, slc, citgo, age, wildcat, petro-canada, antwerp, firmly, justify, discriminatory, unp, champlin, nippon, strip, deductible, eventual, two-year, initiate, powdered, hemisphere, dupont, tran, criticise, uruguay, procurement, oversee, api, temper, benson, availability, lubricant, unprofitable, efficiency, inspire, indefinite, integral, embark, servant, toll, wrong, effectiveness, film, contractor, lucrative, wyome, airport, fruit, worse, sorely, ryan, la., moore, closure, accumulate, lag, steve, prevail, dwindle, english, player, rich, dozen, majeure, sulphuric, stoppage, hale, railroad, thought, husky, substance, hyo.to, wedge, u.s.-canada, u.s.-canadian, brian, mulroney, oecd, halve, marked, finland, fsi, nfsi, reeacquisition, precambrian, uneconomic, grease, monkey, gmhc, nov, acpt, mnst, respective, toog, option-granting, asc, kasler, kasl, un.a, angus, cbm.n, niall, fitzgerald, divergence, 50.17p, stauffer, lipton, surf, detergent, peke, discard, prejudice, generalise, gsp, print, counsellor, chen, shibiao, behaviour, out-of-date, pickup, insititute, accountant, intek, idcc, population, pharmacia, phab, st, once-off, know-how, adr, parity, lkb-produkter, intermedics-intraocular, dbkg.f, bankamerica, clash, minute, fre, trademark, agent, post-tax, op, dane, elimination, bank/canada, uncertain, guinean, lifetime, healthcare, herman, croo, re-orient, europe., introducte, problems., products., stupid, upset, mosty, suprlus, diverted, clout, fom, west., atmosphere, dramatize, headline, rostenkowski, temptation, club, d-ill., screen, plea, fairness, 1/2, fellow, stephen, career, ecgd, aged, convern, lump, at., trough, qustion, newsletter, sesame, artificially, catastrophe, evident, reluctant, luncheon, suicide, airbus, industrie, unexpected, midafternoon, unique, reshape, ccr, harold, annualize, carryover, ultimately, standpoint, certainty, timely, 30-35, saudis, jawbone, longshot, cheating, appearance, mckinley, oversell, rally., yeterray, indidate, denial, postition, subroto, canot, marion, indepedent, slack, 4-1/2, panic, sooner, jam, raymond, pancanadian, whitehall, distillate, residual, francisco-based, sponsor, patrick, leahy, d-vt., sen., melcher, d-mont., donation, pl480, concessional, bangladesh, tunisia, morocco, injury, apple, yr-ago, wellemeyer, ope, interfuel, resolved., exemption, mcdonald, non-voting, problem., pontiac, 24-month, 36-month, 48-mopnth, 60-month, equip, interst, ann, camco, specifically, ought, infe, apolonio, ruiz, ligero, four-year, fad, context, abroad., swift, korean/taiwan, fairchild, lastly, market., treat, bind, fourteen, 13-week, brown-forman, bfdb, refund, transition, soften, easing, compatible, hugo, paeman, multilateral, etienne, davignon, luyten, energy/california, curti, birr, bolster, munger, track, dreg, ed, malmgreen, marker, blend, stripp, extraction, cloud, kern, crawl, mitchell, guerard, srd, deep, gathering, simple, sudden, idaho, unfortunate, gat, woong-bae, rha, sources., parts., federally, u.s.-, briefing, low-price, 12-nation, preferential, minoru, endo, unfounded, herring, prohibit, unprocessed, salmon, herre, stiff, 3-1/2, algerian, counterpart, belkacem, nabi, ap, permament, alick, buchanan-smith, diving, buchanan, snith, brent-grade, style, britian, oil-consuming, oil-producing, hal, february., nugent, oilpatch, lawmaker, revitalize, tertiary, coherent, way., deplore, shy, fertiliser, syndicate, six-year, seven-year, mhc, dlr/bbl, wrap, cap, drag, u.s.protectionism, eec, retaliate., ec-u.s., u.s.-ec, brink, reesentment, unilaterally, deadlines., commuity, better., bypass, agreeeement, arbiter, interpret, wonder, 49-1/8, accomplish, load, financier, route, yeutter, carlos, drawdown, preparatory, petrleum, strive, faith, short-covering, quiet, dead, unbalanced, limitation, balance., honour, diversity, ht, bko, ike, kerridge, belgolux, belgo-luxembourg, bleu, half-point, broad-based, 12-member, kaputin, privileged, beneficiary, kina, exactly, undersecretary, wallis, domestic-led, supercomputer, kansai, jeopardy, fundamentally, labour, heighten, chartered, polish, poland, precise, hypothetical, blur, illusory, excuse, under-, achieving, favoured, suppression, martial, devise, offshoot, envoy, extrapolate, freely, theoretical, evaluation., illusion, misunderstanding, phenomenon, nebulous, curbing, janusz, kaczurba, pap, uncommonly, dlrs., moral, torpedoing, ice, pole, immorally, solidarity., wladyslaw, baka, partners., debt., obstruct, superpower, cooperate, anatolian, egyptian, overproduction, arabian, overprice, country-by-country, gabon, decree, gazette, interest., mike, ocean, warwick, leed, dresdner, exit, amstutz, underestimate, detect., proceeding, administer, newsprint, greatly, carroll, proportionately, georgia, rip, archer, taper, gnt, independently, prestige, financially, wilderness, premdor, ho, peninsula, staley, coke, cpl, desjardin, visa, confederation, caisses, populaires, d'economie, desjardins, unpaid, billing, designate, petroleo, pdvsa, doe, herrington, better, tap, neighbour, dollar/yen, urging, diet, populous, ratification, unofficial, safe, forbid, crumble, cautiously, absorb, craa., a/, dependence, li, petition, prospective, ferdinand, marco, now., relieve, pall, 8-1/2, mediator, picken, accrue, importance, firming, quake, pile, paralyse, society, perceive, tarrif, equatorial, equa, casey, dia, unpleasant, demonstration, occurrence, felipe, gonzalez, maximium, companion, anticipation, nice, revalue, gesture, backing, hypothesis, jurisdiction, understandably, dennis, eradicate, inhibit, legitimate, opecna, secretariat, price., biannual, noticeably, month., lifter, entail, extraordinrary, matrix, seven-state, assertion, entrant, fortune, constant, cook, carlucci, mthly, sc, pre-budget, penal, 11-3/4, drew, three-quarters, rates., 1.5798/808, 1.5650/60, 2.8900/60, 2.8720/50, re-rating, fellner, bout, bet, upheaval, harmful, pause, guess, egpc, ras, bahar, stockbroker, prudential, ward, buildup, inflate, striking, almir, fault, harbour, kit, tandem, yellow, 3/8, hurdle, 3-3/4, underproduce, correct., propuce, 75-100, refiner-buyer, free-for-all, seven-nation, twice-postponed, grades., fibre, mississippi, pearl, encounter, u.s.-european, harmony, bailey, attendance, tension, jean-claude, paye, franz-josef, feiter, heed, differentiate, disparity, profit-taking, suport, bouy, depression, rescheduling, simmon, phil, icg, compose, noir, yugoslavian, egon, padovan, wmx, safeguard, purusant, internationally, douglas, anybody, marketplace, ankara, yalim, eralp, territorial, berne, iea, cutback, norbec, leeway, 0.1-0.2, 0.2-0.3, yanbu, ngl, centrally, non-conventional, tar, processie, curtailment, refinancing, isthmus, maya, axp, incline, pbt, welfare, stone, sto, ^m, allowable, g-6, culminate, start., steward, ominous, society., illinois, evan, indefinitely, pumping, corporacion, estatal, petrolera, ecuatoriana, tremor, salado, aguarico, reventador, volcano, epicentre, seismologist, 12-point, mercalli, ecaudor, property-casualty, bush, imediately, temperton, 72-73, cox, ebc, amro, one-week, hoare, govett, run-up, glory, ian, harwood, mercury, confound, excitement, 3/4, pertain, three-months, sovereign, writer, kilometer, comparative, shake, greet, jacobson, destocking, ultimate, indefintiely, short-haul, scarce, readily, skeptic, hanke, friedburg, quotas., government-to-government, resold, anniversary, repeal, out-of-pocket, lumber, random, eve, assert, persaude, collision, pete, 7-1/8, stumble, beaufort, hinder, vacuum, algier, deploy, stablise, prices., petro-chemical, fishery, coradian, cdin, nicaragua, paraguay, intended, saskatchewan, flow-through, notification, u.n, m., glut, override, interpretation, re-export, apartheid, rationale, 24-hour, seven-day, one-month, two-month, three-, nine-months, 3-1/4, savings, fade, medium-sized, deck, consultative, iraq-turkey, landslide, adana, hurriyet, kirkuk, yumurtalik, alert, lago, agrio, balao, hook, eighth, hector, hurtado, unwillingness, sideways, 100-1/4, 5-3/4, 99-3/4, increased., fixed-rate, kassenobligation, fob, submission, taka, proper, discounted, nioc, colder, disguised, vlcc, individually, obligate, impair, whichever, advantageous, sell-out, woe, showdown, bipartisan, sept., grip, parking, contel, tumaco, desirable, lasting, japan., world-wide, anti-inflation, breakthrough, breathing, export-import, p., roxy, shape, chl, jwc, generous, loss-making, froze, abdelaziz, adequately, 2-3/4, roger, planner, throughput, have., roberto, fendt, govt, exact, deem, 6-1/2, untied, seminar, oil-dependent, expatriate, spate, doha, staunch, penalise, terribly, wealth, vat, one-for-two, fruitful, denomination, bolivar, mid-june, stopover, 9-1/2, 5-1/2, overshoot, sheikh, bin, sultan, tendency, irish, eagle, willy, clercq, mee, cyprus-based, authoritative, oil., entitlement, pan, ditch, mitsuru, uchida, waseda, memorandum, expiry, endorse, testing, outer, inherent, practical, range., scottish, flatten, transact, four-day, exports., reading, seperate, north-central, guerrilla, three-day, economical, joe, emergence, truly, boiler, stream, yukio, interchange, fledgling, depletion, violent, 50-minute, dramatic, dresser, di, ali, schlesinger, liberalise, 1980s, exploit, al-rai, al-aam, exert, genuine, nervousness, theirs, 13-member, fahd, doldrum, justification, wil, aramco, ex-partner, rearrange, piw, prince, porex, medco, containment, added., maxwell, iit, norske, stat, oljeselskap, stat.ol, statoil, haltenbanken, colony, voluntarily, peerless, softwood, countervail, bomb, quinn, dallas-based, comeback, ineffective, annoy, deserve, fulfill, 6-7/8, saddle, 1973-74, embargo, parish, displace, insistence, offical, facto, retroactive, market-related, tranche, 1987-92, oda, 28-day, 6.5p, sufficiently, ebullient, reputation, bloated, 1960s, finger, markka, 27.5p, peasant, peking, accusation, summon, suleiman, al-sabah, hisham, nazer, riyadh, architect, distortion, deeply, basix, bas, cultural, unjustified, deflect, realism, petronas, spoil, prosperity, advice, deflationary, fan, countenance, stability., abdul, rachman, ramly, 9-1/4, plough, 7-1/4, schlumberger, slb, rid, mmc, disturb, subdue, blip, encouraging, opec-led, srv, third-quarter, lasmo, billlion, trillium, transamerica, drummond, oilman, upsurge, speedy, armor, bilion, unnecessary, lpg, successor, minimize, perez, kharg, toy, coeur, d'alene, deduction, praise, issuer, bk, height, trace, pat, carney, distort, canadian-u.s., flaw, lunch, shut-in, potash, vow, downstream, corpus, christi, depositor, 20s, abundance, eager, foolish, foolishness., doing., testified, rack, amazing, japanese-made, 14th, traveler, nov., 30-year, corresponding, ivaco, 1-1/4, year., indebtedness, smooth, non-manufacturing, vice-foreign, zhou, nan, six-monthly, rotating, topple, fatal, unpopular, nakasone., flare, faction, today., ammunition, rei, shiratori, smoulder, nail, coffin, grave, hutchison, whampoa, discriminate, impatience, mede, akzo, akzo.as, signing, predatory, hit.t, kilobit, dram, oki, amortisation, compound, delicate, pain, cheung, sq, aims., ammonia, electromagnetic, categorically, rhetoric, terra, unabated, beyond., inflation., semiconducter, saver, kentucky, cntr, pearson, trustco, ceremony, welcoming, government-owned, verge, avery, escape, mlc, elk, sympathetic, discharge, elgin, captive, beneath, getty, nymex, shrug, underpin, hartford, quarter-point, mcculley, 26/27, aubrey, lanston, fomc, liro, pass., elizabeth, reiner, line., foreseeable, non-strategic, policymaker, industrialisation, viewpoint, debt-equity, six-member, g.c, goh, 5-1/16, 4-13/16, re-invest, tata, setter, bombay, enthusiastic, macsharry, punt, kearney, peop, fortnightly, engagement, 30-69, 30-124, 70-88, 125-150, 89-123, 151-173, 124-150, 174-182, 151-349, 183-349, 350-360, mtrc, von, cil, prescribed, 62-3/4, 83-1/8, 54-7/8, opertation, fos, capcity, mlotok, bunch, shaken, rough, fluctuating, post-budget, prt, henceforth, oil-related, prt-exempt, reallocation, tidy, incorrectly, ammendment, gareth, lewi, davy, mackenzie, edinburgh, osprey, arbroath, reward, bootle, safety-first, 9-11/16, simmond, electorate, tomrorow, one-point, analyse, small-print, 10-1/2, gel, pln, house-ordered, imports., pdvsa-champlin, eventuality, maturation, adapingthe, hydro-treating, difficultiesand, 80-85, ahme, wainco, wol, grandmarais, prspect, jefferson, frion, tweedel, perforation, untested, fhl, oapec, al-wattari, /oapec/opec, optimal, unviable, high-cost, full-fledged, euro-arab, allotment, anita, sar, venezuela-ecuador, fernando, alvite, remit, quito, creation, non-north, community/oapec/opec, geography, antonio, domenici, flawed, firstcorp, fcr, leather, reinveste, top-level, peaceful, al-khalifa, 13-nation, al-anba, less., opt, baht, mismatch, 10-3/8, lowering, mid-1987, dlrs/barrel, tapi, tradeable, aomi, mayor, roel, dunnen, twinned-port, drsd.f, longer-dated, routinely, hiring, platinum, rebel, handy, harman, pson.l, spr, oesterreichische, mood, saint, area., customarily, recording, well., gatt-approved, counter-reaction, threshhold, textile-state, review., bus, 20-month, neyra, earnng, coinage, nation-wide, profile, distinction, saf, essf.pa, sur, 1985-86, emhart, emh, chiefly, wrought, cenergy, crg, canterra, scotian, east-southeast, halifax, meter, lacey, mcentee, mcginley, karnosky, materialize, widerange, weave, florio, counterfeit, copyright, subversion, customs-cleared, yen/dollar, homeland, shiv, shanker, herbal, usher, balancing, newly-established, ke, stamp, new-found, underline, watchword, recklessness, dominance, explicitly, abdulaziz, al-salim, breakneck, tale, legendary, unpunished, outsized, non-tariff, octoer, high-yield, insured, surcharge, saudia, state-oil, 40-mln, micron, conviction, clear-cut, dampened, retracement, refco, connery, afterwhich, leiner, kahan, sizable, recur, automatically, pechiney, protocol, gosagroprom, vsevolod, murakhovsky, visnew, ahmed, zaki, yamani, scheduled., 13-year, over-production, measures., assemble, thrash, tihamah, abal-khail, oil-based, long-delayed, based., shipping-to-hotel, redec, fighter, taipei, lloy.l, resemble, instance, anonymous, questionnaire, carlton, ongpin, donor, failed, bank-led, libyan, crude., tripoli, inequality, covert, discretion, leon, febre, cordero, dignity, maintain., patricio, quevedo, staple, pariba, pre-finance, plight, 18-month, oil-financing, orginal, re-establishment, mid-east, renegotiate, cairo, year-old, youssri, mustapha, hosni, mubarak, salah, bassiouni, soviet-built, soviet-supplied, then-president, anwar, sadat, promised, intellectual, revolution, steering, unrealized, bonanza, simplify, legislate, mid-1984, centrally-planned, slacken, toughen, allegiance, frenzel, poeple, agreements., reluctantly, afl-cio, kirkland, president., jenkin, proponent, beset, decision-making, sovereignty, vulnerability, hut, cambridge, there., emerging., passionate, under-developed, under-employed, newfoundlander, albertan, prosperity., detial, published, trariff, ameritrust, franklin, lessening, downgrade, toned-down, r-mi., d-il., d-mo., d-ga., augusta, paolo, torino, loophole, subsidized, derivitive, eight-billion-dlr, mcdermott, mdr, sensible, subisdy, one., friends., jople, expense., disturbed, relations., aggravation, nomination, wellington, inter-agency, oil-dependency, harrington, nickle, overestimate, tantamount, syndication, osamu, oceanic, minsiter, honda, inexpensive, ingenuity, saito, lid, owen, atico, atfc, trico, tro, scurry-rainbow, strained, engere, pasta, strident, ill-advised, provocation, brinkmanship, self-centred, accommodation, tied-aid, effot, tied, intensive, 24-nation, hidden, lessor, psbr, avoidance, dual, systematic, syst, beacon, caljet, cryssen, edgington, orkin, lunday-thagard, ring-free, mock, petro-diamond, pressing, achieve., 5-6, question-and-answer, rash, quasijudicial, mechanisim, neighbor, mccain, be., mcclure, invoice, chip-maker, discouragement, 169-billion-dlr, 59-billion-dlr, matsui, novel, wanted, collaborate, bank-funded, java, wise, unsure, arifin, siregar, depreciate, inefficient, sidetrack, sepember, southerner, instil, tragedy., popularise, readjustment, negotiations., pirate, prauge, scotland, 700-acre, taupo, verging, super-computer, dawkin, bogge, protectionist., contemplative, ago., matter., baseless, saddam, hussein, over-reliance, apea, benbow, derive, oil-generated, 1992/93, undiscovered, 1980-84, non-middle, mcivor, super-giant, home-country, non-discriminatory, meare, /exxon, uncouple, uncoupling, taboo, pietsch, re-emerging, curve, accomodate, josef, koerner, ifo-institut, wan, ncso, tsomu, hata, neglect, rollback, practice., cracker, undamaged, ingolstadt, lavera, nowruz, rubble., deprive, ruler, ardeshir, month-long, lull, dresdn, bradstreet, capitalisation, donut, stifled, samaila, mamman, micro-chip, utmost, masaji, yamamoto, renege, diminishing., nipn.t, schultz, dram.o, rock-bottom, rebuttal, strange, publicize, tonka, tka, mcd, seismic, sfb, zero-point, qassem, taqi, agcny, ina, appointing, isam, abdul-rahim, al-chalaby, subhi, yassin, khadeir, abdel-jabbar, abdel-rahim, al-asadi, baath, hamza, al-zubeidi, al-zubedei, reshuffle, realisation, freedman, fumble, unionist, krapel, persuasive, jofree, exisite, adkerson, shuffle, shakeup, inoc, appointed, incompatible, cede, noncash, rotary, scale-back, overwhelm, substitution, entirely., ludicrous, immense, non-productive, rational, 'old, rrt, profit-based, deductibility, irritant, ridden, redouble, cut-rate, revitalise, barring, bitterly, negate, secondly, thirdly, collectively, davo, canada/u., concepcion, shine, quantitative, bae, 3.60/70, 3.75/85, openness, round., nt, timetable, ex-im, morton, draugen, rd.a, northermost, 240-270, 300-meter, single-leg, gravity-base, subsea, reservoir, buoy-loading, 3p, ch, nine-member, sudan, sudanese, add-need, crunch, czechoslovakia, soviet-bloc, democratic-controlled, bonker, highly-sensitive, optima, credit-card, pei-yuan, chia, mastercard, two-to-one, braddock, ones., melbourne, heavy-handed, japan/u., provident, trout, a14-8-89-3, w5m, northstar, tricentrol, vicinity, peanut, spice, tomato, puree, oil-tax, mid-continent, taxpayer., nic, scream, cerier, impediment, competiveness, doorstep, well-placed, fashionable, japan-bashing, nic-bashing, chandross, incipient, woong, chien-shien, big-ticket, balloon, wendt, overrall, koss, exorte, two-pronged, free-trade, teeth, namibia, rundown, injurious, widening, delighted, ouput, year-to-date, interest-straining, expansionist, dogmatically, baird, non-prt, annex, participator, prt-paying, kittiwake, corner, misguided, product-for-product, wrench, boomerang, andean, caf, galo, montano, parra, gil., bentsen, televise, abbey, almy, jointly-owned, deliberately, rhone-poulenc, drawback, laiohe, 140-well, 1979-81, anytime, comecon, soviet-led, non-recognition, maslen, no., zdzislaw, kuroski, questions., presented., ec-comecon, first-ever, goc, amauligak, mud, shoreline, barite, naturally, akzo-dupont, breaking, dutch-made, disputed, aramid, mnco, 20-member, thinh, channels., inducement, re-negotiating, dillard, american-caught, pollock, standby, infant, assset, comerica, s-k-i, probability, mortgage-backed, 7-3/8, amidst, dalian, txc, galaxy, fnb, frame, arbitrary, them., globalization, perspective, r.c, indexation, abdul-aziz, mana, al-oteiba, alexandria, 8-1/4, keller, government., gravity, loan-to-price, one-eighth, adjustable-rate, memotec, quarters., cnn, careful., anchorage, rospatch, cano, pessimism, naba., calender, 85-15, chase-amp, yannis, whittaker, wkr, whittak, liu, 11-1-1, fa, hwhh.hk, wonnacott, knotty, economics, univerity, coutervailing, natw, bcs.l, mdbl.l, staunchly, 8-3/4, 2004/08, 134-12/32, inexorable, delineation, newfoundland, economicly, terra-nova, hibernia, graven, flank, parex, foulke, strenuous, riase, rotberg, rah, woon, increases., pure, 5.63-65, 5.59-61, homeless, gigantic, napo, hardest-hit, pipelline, ande, brancho, corpse, bracho, lara, landslides., cayambe, editor, adjustable, dibona, unanimity, 3-mo, 6-mo, bond-equivalent, stopout, non-competitive, santana, upco, boone, heady, autobiography, sergey, frolov, amtorg, u.s.-ussr, post-detente, teach, shenzhen, strong-armed, recalcitrant, wolffe, marketeer, sneak, non-american, matt, aizawa, outfox, donovan, mmi, k.k, opens., communism, foreign-made, urgency., megabit, thorny, sia, are., stimulative, zaid, al-nahayan, nazir, viste, palestinian, 6-1/2-year-old, battlefield, 2.25p, creditanstalt-bankverein, phrase, jumardi, jukardi, hardjoko, seputro, megabank, troublesome, flagging, inflation-free, suggested., misgiving, will., libor, unacceptably, seaga, bno.to, co-head, interest-rate, ill-will, teran, tx.n, repaid, 180-day, caracas-based, rafael, velasco, point/oil, sandi, haber, sweeney, halliburton, vishnu, diversife, businesess, favorite, horde, gaspar, choosing, swarup, cabv.vi, hanne, androsch, re-confirm, disassociate, differentials., long-held, responsibly, tragic, tableland, 4-36-2-10w2, 17/64, 20/64, spacing, srb, influx, m-4, underperforme, 32nd, one-billion, near-instant, downpayment, bellwether, 10-9-7/8, significance., materialises., disquiet, politician, westminister, jordan-petrocanada, amman, nra, pciac, al-khatib, towe, 3-5, retaliation., concessions., hesitant, reasons., speaking, piracy, puchas, eia, despatch, overwhelming, democratic-sponsored, moderated, democratic-led, imec, france., advantage., jean-baptiste, doumeng, interagra, lent, propensity, regrettably, aturo, maracaibo, guayaquil, cnooc, lufeng, 13-1-1, stationery, pazzionotto, recurrent, longstanding, peterson, peckford, formula., transpire., dissociate, ability., lucky., semi, s.africa, gradin, black-ruled, front-line, anglo-dutch, p.j, hoenman, hair, decision., musk-oxen, inadquate, dispite, solv-ex, solv, up-front, mcmurray, athabasca, powerine, selm-societa, energia, priolo, 15th, 28th, 140-150, negative-netback, garrone, quirico, isab/garrone, mellili, 20-25th, siracusa, distillation, berre, l'etang, raffinage, cfr, visbreaker, bbl/day, outlook-ecopetrol, franciso, chona, samudio, arauca, narvaez, limon, hockin, clearcut, frightening, 'protectionism, balanced., assam, pre-equity, faithfully, unsellable, knock-down, legally, chronic, petrobra, suez-mediterranean, sedi, kerir, wilfred, wae, bmd, dww, soviet-w, east-west, stein, apholte, canadaina, sponsorship, receivables, calmness, reigning, minsitry, colon, bywater, lightweights., forego, antidumping, industory, closed-minister, quota., flashpoint, early., provincially, axworthy, harrassment, bumble, whatever., ming-yi, zhao, ziyang, samsung, mob.n, cmte, committess, tic, idly, studied., sector-specific, kid, non-canadian, morse, eali, foreign-based, liabilite, cmca, rediscount, 26-week, inseperable, re-negotiate, punte, ludolf, georg, wartenberg, cooling, watchfulness, moneyline, d-tex, hundre, weston, bkb, month-end, avy, 6-5/8, debt-burdened, prior-year, mariano, washington-based, mcc, al-qaba, rosemary, mcfadden, stave, u.s.-china, figure., alone., cobanco, cbco, bfd, larsen, blender, e.b.i, esquire, ee, obod, clri, cinram, o'malley, hnh, limp, hail, saviour, pace., 45-50, 30-40, fgrp, phi, all-star, novebmer, bdm, mrdn, coleco, clo, copany, clc, cabbage, handel, dahlberg, dahl, idbx, armr, readdress, yergin, cera, mizrahi, bpd., sprigg, bijan, moussavar-rahmani, torchmark, tmk, debenure, techamerica, tch, ka-shing, gsw, lana, mccall, mayf, alatenn, atng, munsingwear, mun, gti, famous, fam, authorizerd, shrortly, likeli, cct, clever, april., moves., mid-1960, 3.7495/98, 3.7500/03, khalifa, al-thani, one-twelfth, rationalise, shoulder, responsibilite, circumstance., over-producing, tanurah, ju'aymah, two-fold, jubail, ntt, ckgh.hk, 11-21, wako, regulation-free, ingvar, calrsson, carlsson, irritate, sub-cabinet, gamut, stop-over, end-week, frustrated., free-wheeling, tight-fisted, culprit, peeve, adverserial, well-thought-out, m.p, organiaation, chao-ming, export-earner, hkeh.hk, cavendish, non-electricity, reute, sdc, cronus, buildings., tue, porx, multi-step, restructurine, hsa, whittar, dofascoxinc, bertram-trojan, investcorp, benne, marrel, juster, daewoo, wimi, strob, strb, brenco, bren, mf, skii, kapok, kpk, humanistic, 15-18, k-tron, ktii, pdo, frm, duro-test, dur, internchange, isbj, 8-1/3, nesp, phcc, mcry, benguet, i.m., imsi, muo, jcb, payble, harley-davidson, hdi, cvgi, thunander, thdr, minneosta, dpcz, sigi, ziering, annal, ziere, immunological, dunkin, dunk, cccr, off-hour, debut, mckiernan, capozza, efp, trading., up-right, upri, self-confidence, post-war, crossborder, population., imposing, albertson, intec, intk, hydron, hyd, syntech, interenational, syne, cour, ltlp, wht, reit, raut, realmerica, raco, muncipal, mfm, pittway, pry, petrolite, plit, kapsis, kaya, erdem, seabe, inactive, telecredit, tcrd, lasr, life-health, pofit, shr/avg, kenca, bkne, whipple, comalco, cmac., goldendale, chip-export, usefulness, grey-market, fison, fisn.l, 24.3p, 3.95p, 3.34p, horticulture, tito, ayal, ayala, nueva, teapa, salina, lazaro, stcl.l, 15.9p, 4.5p, impute, bougainville, buva., iron-ore, argyle, unrealised, trans-shippe, communism., anti-communist, centralled, lever, ashton-tate, 25p, 575p, transponder, equitorial, inabiliuty, agreed-upon, oblitation, cross-default, earth, conteol, under-secretary, eishiro, sub-cabinet-level, antagonise, condemnation, weill, 30-123, administration., iif, horst, schulmann, orgnaization, levelling, finance., vak, zentralsparkasse, kommerzialbank, wien, hellmuth, klauh, genossenschaftliche, zentralbank, pale, oesterreichischen, sparkassen, girv.vi, haumer, erste, spar-casse-bank, mntl, bank-wilmington, no-fee, boatman, venezula, 1987-89, minneaplois, competitive., cardholder, royal/bank, tcf, ionterest, 5-7/8, upward., bank-houston, bacp, ncf, fannie, fnm, crowd, squaring, 30-273, 30-89, 274-294, 90-100, 295-344, 101-181, 345-360, 182-195, 196-274, 275-295, 296-360, 15-78, 15-81, 79-85, 82-88, 89-360, 89-174, 175-180, 181-360\n"
     ]
    }
   ],
   "source": [
    "print(\", \".join(vocabulary))"
   ]
  },
  {
   "cell_type": "markdown",
   "metadata": {},
   "source": [
    "You can see how many times article $i$ contains word $j$ using"
   ]
  },
  {
   "cell_type": "code",
   "execution_count": 483,
   "metadata": {},
   "outputs": [
    {
     "name": "stdout",
     "output_type": "stream",
     "text": [
      "4\n"
     ]
    }
   ],
   "source": [
    "i, j = 40, 2\n",
    "print(data[i,j])"
   ]
  },
  {
   "cell_type": "markdown",
   "metadata": {},
   "source": [
    "You can see which class the $i$th article belongs to using"
   ]
  },
  {
   "cell_type": "code",
   "execution_count": 484,
   "metadata": {},
   "outputs": [
    {
     "name": "stdout",
     "output_type": "stream",
     "text": [
      "0\n"
     ]
    }
   ],
   "source": [
    "print(labels[i])"
   ]
  },
  {
   "cell_type": "markdown",
   "metadata": {},
   "source": [
    "For instance, by running"
   ]
  },
  {
   "cell_type": "code",
   "execution_count": 485,
   "metadata": {},
   "outputs": [
    {
     "name": "stdout",
     "output_type": "stream",
     "text": [
      "Occurrences: 2\n",
      "Class: earn\n",
      "Word: shareholder\n"
     ]
    }
   ],
   "source": [
    "print(\"Occurrences:\", data[0,10])\n",
    "print(\"Class:\", class_names[labels[0]])\n",
    "print(\"Word:\", vocabulary[10])"
   ]
  },
  {
   "cell_type": "markdown",
   "metadata": {},
   "source": [
    "you can see that the 11th word appears twice in the first document, the first document belongs to the class \"earn\", and the 11th word is \"shareholder\"."
   ]
  },
  {
   "cell_type": "markdown",
   "metadata": {},
   "source": [
    "The following function randomly selects a subset of the data."
   ]
  },
  {
   "cell_type": "code",
   "execution_count": 486,
   "metadata": {},
   "outputs": [],
   "source": [
    "def sample_indices(labels, *num_per_class):\n",
    "    \"\"\"\n",
    "    Returns randomly selected indices. It will return the specified number of indices for each class.\n",
    "    \"\"\"\n",
    "    indices = []\n",
    "    for cls, num in enumerate(num_per_class):\n",
    "        cls_indices = np.where(labels == cls)[0]\n",
    "        indices.extend(np.random.choice(cls_indices, size=num, replace=False))\n",
    "    return np.array(indices)"
   ]
  },
  {
   "cell_type": "markdown",
   "metadata": {},
   "source": [
    "For instance, to get one sample from the first class, two from the second, three from the third, and four from the fourth, you can run:"
   ]
  },
  {
   "cell_type": "code",
   "execution_count": 487,
   "metadata": {
    "scrolled": true
   },
   "outputs": [
    {
     "name": "stdout",
     "output_type": "stream",
     "text": [
      "Returned indices: [ 43 293 206 560 483 457 688 634 669 616]\n",
      "Samples:   (0, 13)\t1\n",
      "  (0, 14)\t1\n",
      "  (0, 15)\t2\n",
      "  (0, 16)\t2\n",
      "  (0, 17)\t7\n",
      "  (0, 19)\t6\n",
      "  (0, 20)\t1\n",
      "  (0, 21)\t3\n",
      "  (0, 22)\t2\n",
      "  (0, 23)\t2\n",
      "  (0, 79)\t1\n",
      "  (0, 117)\t1\n",
      "  (0, 122)\t1\n",
      "  (0, 339)\t1\n",
      "  (0, 6143)\t1\n",
      "  (0, 6144)\t1\n",
      "  (1, 5)\t3\n",
      "  (1, 13)\t1\n",
      "  (1, 42)\t2\n",
      "  (1, 60)\t1\n",
      "  (1, 86)\t2\n",
      "  (1, 133)\t1\n",
      "  (1, 151)\t2\n",
      "  (1, 152)\t1\n",
      "  (1, 158)\t2\n",
      "  :\t:\n",
      "  (9, 364)\t1\n",
      "  (9, 409)\t1\n",
      "  (9, 501)\t1\n",
      "  (9, 511)\t1\n",
      "  (9, 635)\t1\n",
      "  (9, 805)\t1\n",
      "  (9, 984)\t4\n",
      "  (9, 1031)\t1\n",
      "  (9, 1092)\t2\n",
      "  (9, 1183)\t2\n",
      "  (9, 1229)\t1\n",
      "  (9, 1298)\t2\n",
      "  (9, 1299)\t2\n",
      "  (9, 2760)\t1\n",
      "  (9, 3017)\t1\n",
      "  (9, 3547)\t1\n",
      "  (9, 4344)\t1\n",
      "  (9, 4451)\t1\n",
      "  (9, 4520)\t1\n",
      "  (9, 4521)\t1\n",
      "  (9, 4522)\t1\n",
      "  (9, 4523)\t1\n",
      "  (9, 4524)\t1\n",
      "  (9, 4525)\t1\n",
      "  (9, 4526)\t1\n",
      "Corresponding classes: [0 1 1 2 2 2 3 3 3 3]\n"
     ]
    }
   ],
   "source": [
    "indices = sample_indices(labels, 1, 2, 3, 4)\n",
    "print(\"Returned indices:\", indices)\n",
    "print(\"Samples:\", data[indices])\n",
    "print(\"Corresponding classes:\", labels[indices])"
   ]
  },
  {
   "cell_type": "raw",
   "metadata": {},
   "source": []
  },
  {
   "cell_type": "markdown",
   "metadata": {},
   "source": [
    "## 3. k-NN Implementation (4 Marks, Normal)\n",
    "\n",
    "Now, you will need to implement a k-NN classifier by filling the code below.\n",
    "This function should support two types of distance measures: Euclidean distance and cosine distance (defined as 1 - cosine similarity). It should take a set of training samples, a user-specified neighbour number, a distance option, and features of a set of testing samples as the input.\n",
    "It should return the predicted classes for the input set of testing samples.\n",
    "\n",
    "In order to get 4 marks, you are asked to implement the k-NN classifier from scrach without relying on any machine learning library, particularly the distance calculation. But you are allowed to research NumPy functions relating to sorting. If you decide to use existing distance implementation from libraries, e.g., `sklearn.metrics.pairwise_distances` imported as `cdist`, you can get at most 3 marks.\n",
    "\n",
    "**Your implementation must NOT make use of Python loops over individual samples or features**.\n",
    "You should use functions that operate on whole matrices, as this will be much faster than looping in Python.\n",
    "Each experiment below is expected to take no more than 2 minutes to run."
   ]
  },
  {
   "cell_type": "code",
   "execution_count": 488,
   "metadata": {},
   "outputs": [],
   "source": [
    "import scipy.stats\n",
    "from sklearn.metrics import pairwise_distances as cdist\n",
    "\n",
    "def knn_classify(test_samples, training_data, training_labels, metric=\"euclidean\", k=1):\n",
    "    \"\"\"\n",
    "    Performs k-nearest neighbour classification on the provided samples,\n",
    "    given training data and the corresponding labels.\n",
    "    \n",
    "    test_samples: An m x d matrix of m samples to classify, each with d features.\n",
    "    training_data: An n x d matrix consisting of n training samples, each with d features.\n",
    "    training_labels: A vector of size n, where training_labels[i] is the label of training_data[i].\n",
    "    metric: The metric to use for calculating distances between samples.\n",
    "    k: The number of nearest neighbours to use for classification.\n",
    "    \n",
    "    Returns: A vector of size m, where out[i] is the predicted class of test_samples[i].\n",
    "    \"\"\"\n",
    "    # Calculate an m x n distance matrix.\n",
    "    if metric == 'euclidean':\n",
    "        pairwise_distance = cdist(test_samples, training_data, metric='euclidean')\n",
    "    else:\n",
    "        pairwise_distance = cdist(test_samples, training_data, metric='cosine')\n",
    "    \n",
    "    # Find the k nearest neighbours of each samples as an m x k matrix of indices.\n",
    "    nearest_neighbours = np.argsort(pairwise_distance, axis=1)[:, :k]\n",
    "    \n",
    "    # Look up the classes corresponding to each index.\n",
    "    nearest_labels = training_labels[nearest_neighbours]\n",
    "    \n",
    "    # Return the most frequent class on each row.\n",
    "    # Note: Ensure that the returned vector does not contain any empty dimensions.\n",
    "    # You may find the squeeze method useful here.\n",
    "    predicted_labels = np.squeeze(scipy.stats.mode(nearest_labels, axis = 1)[0])\n",
    "\n",
    "    return predicted_labels"
   ]
  },
  {
   "cell_type": "markdown",
   "metadata": {},
   "source": [
    "## 4. Experiments (13 Marks in Total)\n",
    "\n",
    "Use your k-NN function to perform the following experiments.\n",
    "\n",
    "### Experiment 1 (3 Marks, Easy)\n",
    "\n",
    "Randomly select 80 articles per class for training, and use the remaining articles for testing.\n",
    "Fix a neighbour number setting as you see fit. Perform k-NN classification using the Euclidean distance and test it.\n",
    "\n",
    "Repeat this process 20 times (trials).\n",
    "Calculate the mean and standard deviation of the testing accuracies. Print out the mean and standard deviation."
   ]
  },
  {
   "cell_type": "code",
   "execution_count": 489,
   "metadata": {},
   "outputs": [
    {
     "name": "stdout",
     "output_type": "stream",
     "text": [
      "Running Experiment 1\n",
      "Euclidean Mean:  0.8535416666666666\n",
      "Euclidean Standard Deviation:  0.024861596053619192\n"
     ]
    }
   ],
   "source": [
    "accuracies = []\n",
    "for i in range(20):\n",
    "    # Randomly select 80 articles per class for training and use rest for testing\n",
    "    training_indices = sample_indices(labels, 80, 80, 80, 80)\n",
    "    testing_indices = np.setdiff1d(np.arange(data.shape[0]), training_indices)\n",
    "    \n",
    "    # finds training and testing data and labels using indicies above\n",
    "    training_data = data[training_indices]\n",
    "    testing_data = data[testing_indices]\n",
    "    training_labels = labels[training_indices]\n",
    "    testing_labels = labels[testing_indices]\n",
    "    \n",
    "    # predicts labels of testing data based on training data and labels\n",
    "    prediction_labels = knn_classify(testing_data, training_data, training_labels, \"euclidean\", 5)\n",
    "    \n",
    "    # calculates accuracy = no. correct labels / no. predicted labels\n",
    "    accuracy = np.sum(testing_labels == prediction_labels)\n",
    "    accuracies.append(accuracy/len(prediction_labels))\n",
    "\n",
    "print(\"Running Experiment 1\")\n",
    "print(\"Euclidean Mean: \", np.mean(accuracies))\n",
    "print(\"Euclidean Standard Deviation: \", np.std(accuracies))"
   ]
  },
  {
   "cell_type": "markdown",
   "metadata": {},
   "source": [
    "Use the same neighbour number, but use the cosine distance instead of the Euclidean distance.\n",
    "Repeat the same experiment.\n",
    "\n",
    "Print out the mean and standard deviation."
   ]
  },
  {
   "cell_type": "code",
   "execution_count": 490,
   "metadata": {
    "scrolled": true
   },
   "outputs": [
    {
     "name": "stdout",
     "output_type": "stream",
     "text": [
      "Running Experiment 1\n",
      "Cosine Mean:  0.9609375\n",
      "Cosine Standard Deviation:  0.007707629472369147\n"
     ]
    }
   ],
   "source": [
    "accuracies = []\n",
    "for i in range(20):\n",
    "    training_indices = sample_indices(labels, 80, 80, 80, 80)\n",
    "    testing_indices = np.setdiff1d(np.arange(data.shape[0]), training_indices)\n",
    "\n",
    "    training_data = data[training_indices]\n",
    "    testing_data = data[testing_indices]\n",
    "    training_labels = labels[training_indices]\n",
    "    testing_labels = labels[testing_indices]\n",
    "    \n",
    "    #same meathod except we are genertaing labels using cosine\n",
    "    prediction_labels = knn_classify(testing_data, training_data, training_labels, \"cosine\", 5)\n",
    "    accuracy = np.sum(testing_labels == prediction_labels)\n",
    "    accuracies.append(accuracy/len(prediction_labels))\n",
    "\n",
    "print(\"Running Experiment 1\")\n",
    "print(\"Cosine Mean: \", np.mean(accuracies))\n",
    "print(\"Cosine Standard Deviation: \", np.std(accuracies))"
   ]
  },
  {
   "cell_type": "markdown",
   "metadata": {},
   "source": [
    "Explain in your report which distance measure gives better performance and analyse the reason. "
   ]
  },
  {
   "cell_type": "markdown",
   "metadata": {},
   "source": [
    "### Experiment 2 (5 Marks, Easy)\n",
    "\n",
    "Using the distance measure that you found performs better in Experiment 1.\n",
    "\n",
    "Randomly select 80 articles per class for training, and use the remaining articles for testing. Perform k-NN classification with the neighbour number $k$ varying from 1 to 50.\n",
    "\n",
    "For each values of $k$, repeat the training process by 20 trials and record the average training error rates and standard deviation.\n",
    "\n",
    "Do the same for testing errors."
   ]
  },
  {
   "cell_type": "code",
   "execution_count": 495,
   "metadata": {},
   "outputs": [
    {
     "name": "stdout",
     "output_type": "stream",
     "text": [
      "Experiment 2\n"
     ]
    }
   ],
   "source": [
    "training_errors = []\n",
    "testing_errors = []\n",
    "training_std = []\n",
    "testing_std = []\n",
    "\n",
    "# Varies k \n",
    "for k in range(1,51):\n",
    "    testing_accuracies = []\n",
    "    training_accuracies = []\n",
    "    # Performs 20 trials\n",
    "    for i in range(20):\n",
    "        # Randomly select 80 articles per class for training and use rest for testing\n",
    "        training_indices = sample_indices(labels, 80, 80, 80, 80)\n",
    "        testing_indices = np.setdiff1d(np.arange(data.shape[0]), training_indices)\n",
    "        \n",
    "        # finds training and testing data and labels using indicies above\n",
    "        training_data = data[training_indices]\n",
    "        testing_data = data[testing_indices]\n",
    "        training_labels = labels[training_indices]\n",
    "        testing_labels = labels[testing_indices]\n",
    "        \n",
    "        # predicts labels of training data based on training data and labels\n",
    "        prediction_labels = knn_classify(training_data, training_data, training_labels, \"cosine\", k)\n",
    "        \n",
    "        # calculates training accuracy = no. correct labels / no. predicted labels\n",
    "        training_accuracy = np.sum(training_labels == prediction_labels)\n",
    "        training_accuracies.append(training_accuracy/len(prediction_labels))\n",
    "        \n",
    "        # predicts labels of testing data based on training data and labels\n",
    "        prediction_labels = knn_classify(testing_data, training_data, training_labels, \"cosine\", k)\n",
    "        \n",
    "        # calculates testing accuracy = no. correct labels / no. predicted labels\n",
    "        testing_accuracy = np.sum(testing_labels == prediction_labels)\n",
    "        testing_accuracies.append(testing_accuracy/len(prediction_labels))\n",
    "    \n",
    "    # calculates training and testing error using \n",
    "    # error = 1 - accuracy\n",
    "    # also calculates standard deviation\n",
    "    training_errors.append(1-(np.mean(np.array(training_accuracies))))\n",
    "    training_std.append(np.std(np.array(training_accuracies)))\n",
    "    testing_errors.append(1-(np.mean(np.array(testing_accuracies))))\n",
    "    testing_std.append(np.std(np.array(testing_accuracies)))\n",
    "        \n",
    "print(\"Experiment 2\")"
   ]
  },
  {
   "cell_type": "markdown",
   "metadata": {},
   "source": [
    "Produce an error bar plot showing the training error rate for each $k$ here:"
   ]
  },
  {
   "cell_type": "code",
   "execution_count": 496,
   "metadata": {},
   "outputs": [
    {
     "data": {
      "text/plain": [
       "<ErrorbarContainer object of 3 artists>"
      ]
     },
     "execution_count": 496,
     "metadata": {},
     "output_type": "execute_result"
    },
    {
     "data": {
      "image/png": "[encoded data removed]",
      "text/plain": [
       "<Figure size 432x288 with 1 Axes>"
      ]
     },
     "metadata": {
      "needs_background": "light"
     },
     "output_type": "display_data"
    }
   ],
   "source": [
    "plt.xlabel(\"K value\")\n",
    "plt.ylabel(\"Average Training Error Rates\")\n",
    "plt.title(\"Average Training Error Rates against K values\")\n",
    "plt.errorbar(range(1,51), training_errors, yerr=training_std)"
   ]
  },
  {
   "cell_type": "markdown",
   "metadata": {},
   "source": [
    "Produce your testing error bar plot here:"
   ]
  },
  {
   "cell_type": "code",
   "execution_count": 497,
   "metadata": {
    "scrolled": true
   },
   "outputs": [
    {
     "data": {
      "text/plain": [
       "<ErrorbarContainer object of 3 artists>"
      ]
     },
     "execution_count": 497,
     "metadata": {},
     "output_type": "execute_result"
    },
    {
     "data": {
      "image/png": "[encoded data removed]",
      "text/plain": [
       "<Figure size 432x288 with 1 Axes>"
      ]
     },
     "metadata": {
      "needs_background": "light"
     },
     "output_type": "display_data"
    }
   ],
   "source": [
    "plt.xlabel(\"K value\")\n",
    "plt.ylabel(\"Average Testing Error Rates\")\n",
    "plt.title(\"Average Testing Error Rates against K values\")\n",
    "plt.errorbar(range(1,51), testing_errors, yerr=testing_std)"
   ]
  },
  {
   "cell_type": "markdown",
   "metadata": {},
   "source": [
    "**Remember that all graphs should have axis labels and a title.**\n",
    "\n",
    "Discuss in your report the difference between the training and testing accuracies, and why this is the case. \n",
    "\n",
    "Analyse in your report the effect of $k$ based on this experiment. What do you think is a reasonable value for $k$? Comment specifically on the *bias* and *variance* of your model at small and large values of $k$."
   ]
  },
  {
   "cell_type": "markdown",
   "metadata": {},
   "source": [
    "### Experiment 3 (5 Marks, Hard)\n",
    "\n",
    "In this experiment we will create confusion matrices for a more detailed view on our model's performance. Then, we will observe the behaviour of our knn classifier on novel classes.\n",
    "\n",
    "First, randomly select 100 articles per class for training, and use the remaining articles for testing. Set the neighbour number to $k=3$. Perform 3-NN classification using the Cosine distance, as in previous experiments.\n",
    "\n",
    "#### Confusion Matrix Implementation  \n",
    "\n",
    "Implement a multi-class confusion matrix yourself, from scratch. Let the row index correspond to the known label, and column index to predicted label. If you decide to use existing confusion matrix implementation from libraries, e.g., `sklearn.metrics.confusion_matrix`, you can get at most 4 marks. (However, you may use an existing implementation to check the output of your own function.)\n",
    "\n",
    "Print out the confusion matrix and overall accuracy of your classifier for the testing data."
   ]
  },
  {
   "cell_type": "code",
   "execution_count": 503,
   "metadata": {},
   "outputs": [
    {
     "name": "stdout",
     "output_type": "stream",
     "text": [
      "Running Experiment 3\n",
      " \n",
      "Confusion Matrix: \n",
      "[[ 384   16]\n",
      " [  16 1184]]\n",
      " \n",
      "True Positive:  384\n",
      "True Negative:  1184\n",
      "False Positive:  16\n",
      "False Negative:  16\n",
      " \n",
      "Overall Accuracy: 0.98\n"
     ]
    }
   ],
   "source": [
    "# Randomly select 100 articles per class for training and use rest for testing\n",
    "training_indices = sample_indices(labels, 100, 100, 100, 100)\n",
    "testing_indices = np.setdiff1d(np.arange(data.shape[0]), training_indices)\n",
    "\n",
    "# finds training and testing data and labels using indicies above\n",
    "training_data = data[training_indices]\n",
    "testing_data = data[testing_indices]\n",
    "training_labels = labels[training_indices]\n",
    "testing_labels = labels[testing_indices]\n",
    "\n",
    "# predicts labels of testing data based on training data and labels\n",
    "prediction_labels = knn_classify(testing_data, training_data, training_labels, \"cosine\", 3)\n",
    "\n",
    "#matrix format\n",
    "#[TP,FP]\n",
    "#[FN,TN]\n",
    "\n",
    "def confusion_matrixes(prediction_labels, testing_labels):\n",
    "    confusion_matrix = np.array([[0,0],[0,0]])\n",
    "    for i in range(0, len(prediction_labels)):\n",
    "        if prediction_labels[i] == testing_labels[i]:\n",
    "            #true positive\n",
    "            confusion_matrix[0,0] += 1\n",
    "            for n in range(0,4):\n",
    "                if n!= prediction_labels[i]:\n",
    "                    #true negative\n",
    "                    confusion_matrix[1,1] += 1\n",
    "        else:\n",
    "            #false positive\n",
    "            confusion_matrix[0,1] += 1\n",
    "            #false negative\n",
    "            confusion_matrix[1,0] += 1\n",
    "            for n in range(0,4):\n",
    "                if n!= prediction_labels[i] and n != testing_labels[i]:\n",
    "                    confusion_matrix[1,1] +=1\n",
    "    return confusion_matrix\n",
    "\n",
    "print(\"Running Experiment 3\")                                                                    \n",
    "confusion_matrix = confusion_matrixes(prediction_labels, testing_labels)\n",
    "print(\" \")\n",
    "\n",
    "print(\"Confusion Matrix: \")\n",
    "print(confusion_matrix)\n",
    "print(\" \")\n",
    "#accuracy calculation\n",
    "\n",
    "true_positive = confusion_matrix[0,0]\n",
    "true_negative = confusion_matrix[1,1]\n",
    "false_positive = confusion_matrix[0,1]\n",
    "false_negative = confusion_matrix[1,0]\n",
    "\n",
    "print(\"True Positive: \", true_positive)\n",
    "print(\"True Negative: \", true_negative)\n",
    "print(\"False Positive: \", false_positive)\n",
    "print(\"False Negative: \", false_negative)\n",
    "print(\" \")\n",
    "accuracy = (true_positive + true_negative)/ (true_positive + true_negative + false_positive + false_negative)\n",
    "print(\"Overall Accuracy:\", accuracy)\n"
   ]
  },
  {
   "cell_type": "markdown",
   "metadata": {},
   "source": [
    "#### On Novel Classes\n",
    "\n",
    "5 new articles have been provided in string format below. The code to create a sparse representation of these articles has also been provided. Take a moment to skim through the articles.\n",
    "\n",
    "Run the code below, saving the sparse matrix representation of these 5 articles into `new_data`."
   ]
  },
  {
   "cell_type": "code",
   "execution_count": 504,
   "metadata": {},
   "outputs": [],
   "source": [
    "sp0 = \"\"\"World number four Jessica Pegula said she thought about ending her tennis career prematurely last year due to her mother Kim's health issues.\n",
    "Kim, the co-owner and president of the NFL's Buffalo Bills and NHL's Buffalo Sabres, suffered a cardiac arrest in June and needed CPR from her other daughter Kelly before paramedics arrived and restored her heartbeat.\n",
    "Pegula received the news after returning home to Florida from the French Open, where she lost to eventual champion Iga Swiatek but rose to number eight in the world.\n",
    "\"Suddenly I went from, 'Let's celebrate top 10 in the world' to, 'Do I need to start thinking about my career after tennis a lot sooner than I thought?'\" Pegula wrote in an essay in The Players' Tribune.\n",
    "\"I'm 28 and I take pride in being able to handle every situation thrown at me, but this was a lot.\"\n",
    "Pegula said she wanted to share her mother's story after Bills safety Damar Hamlin suffered a cardiac arrest during an NFL game last month.\n",
    "Pegula went on to play Wimbledon and the U.S. Open last year to reach a career-high ranking of number three.\n",
    "\"I still wanted to play Wimbledon if I knew my mom was O.K.,\" Pegula wrote. \"My dad didn't want me to play, but I knew she would be upset if I skipped because of her.\n",
    "\"I had to deal with a lot of speculation and questions surrounding her health, even shutting down rumours that she had died,\" added Pegula, who lost to Victoria Azarenka in the quarter-finals of this year's Australian Open.\n",
    "\"It wasn't necessarily the most fun Wimbledon experience I remember. I had a few good wins, and I was proud I was able to go out and compete considering the situation.\" \"\"\"\n",
    "\n",
    "sp1 = \"\"\"Juventus outclassed Salernitana 3-0 on Tuesday in Serie A, with two goals and one assist from striker Dusan Vlahovic helping the visitors move up to 10th place in the standings. The game marked a return to form for Serbian Vlahovic, who has struggled with injuries this season, but made his first league start since October. \n",
    "\"You can see physically, he just moves better, looks sharper, he also played well on a technical level today,\" Juventus manager Massimiliano Allegri told DAZN.\n",
    "Juventus got a penalty after 26 minutes when Hans Nicolussi fouled Manuel Locatelli inside the box with Vlahovic converting the penalty.\n",
    "Vlahovic almost netted a second in the 37th minute, but his shot from an acute angle at the edge of the box went just wide of the post.\n",
    "Filip Kostic doubled the lead on the stroke of halftime when he tapped the ball in from close range after Vlahovic's initial shot bounced into his path, providing an unintended assist.\n",
    "Juventus could have scored a third in the last seconds before the break when Locatelli made a run unmarked into the box, but Salernitana keeper Guillermo Ochoa reacted early and parried his attempted lob.\n",
    "Vlahovic got his second goal 80 seconds into the second half when he ran through in the box and smashed the ball low into the right corner.\n",
    "Salernitana almost pulled one back in the 51st minute, with Junior Sambia sending a cross that went through almost everyone in the box, but forward Boulaye Dia was unable to stretch himself in time to guide the ball into the open net.\n",
    "\"The team gave a strong response, we had a good 60 minutes, but got a bit complacent after going 3-0 up and allowed too many shots on goal. We were static in our positions, didn't move around enough and the players know we must absolutely do better,\" Allegri said.\n",
    "\"The first 10 minutes we tended to pass it too much down the right, so we need to improve our passing, be smoother and keep it simple.\"\n",
    "Juve could have added to their tally but were denied by the woodwork with Angel Di Maria hitting the crossbar after 53 minutes and Moise Kean striking the post late on.\n",
    "The result moved Juventus on to 26 points from 21 matches, while Salernitana are 16th with 21 points.\" \"\"\"\n",
    "\n",
    "sp2 = \"\"\"Manchester United manager Erik ten Hag said he has a long-term plan to build a culture and to develop players at the club.\n",
    "United appointed Ten Hag in April 2022 to succeed interim boss Ralf Rangnick.\n",
    "The team sit third in the Premier League, eight points behind leaders Arsenal, and have the chance to win their first trophy since 2017 when they face Newcastle United in the League Cup final on Feb. 26.\n",
    "\"I always think about the long term, in every club where I was, I have been thinking about long-term work to build a culture, to build a way of playing, to develop the players and the team, obviously,\" Ten Hag told reporters.\n",
    "\"I think in the long term obviously in contracts and in (transfer) windows because I think that is the (right) way.\n",
    "\"I am not here for one year, I am (here for) longer, I see it is a long-term project to build here and how long it is you can't see, I can't tell,\" he added.\"\"\"\n",
    "\n",
    "sp3 = \"\"\"A near-historic Philadelphia Eagles pass rush will face the ultimate test on Sunday in Kansas City Chiefs quarterback Patrick Mahomes, an MVP favourite with no interest in ceding the Super Bowl spotlight.\n",
    "The Eagles established themselves as a terrifying defensive force in the regular season, punishing opponents with an astonishing 70 sacks, two shy of the NFL record, while allowing the second-fewest yards per game.\n",
    "But Mahomes is unlike any quarterback they faced in 2022.\n",
    "\"Mahomes is the guy that extends the plays and drops the dimes,\" defensive end Brandon Graham, who helped the Eagles to the Lombardi Trophy five years ago, told reporters on Tuesday.\n",
    "\"You've got to make sure you can hit him, get him on the ground, create turnovers, make him make bad throws.\"\n",
    "At just 27-years-old Mahomes has already vaulted himself into the history books, joining future Hall of Famer Drew Brees this year as one of only two quarterbacks to throw for more than 5,000 yards and 40 or more touchdowns in multiple seasons.\n",
    "Eagles linebacker Haason Reddick produced a career-best 16 sacks this season but had few answers when asked how the Eagles could contain Mahomes.\n",
    "\"When it comes to Patrick Mahomes, man, he's a tremendous talent,\" he told reporters this week.\n",
    "\"I don't know if you can contain him - I just don't know, he's that good. I won't lie, he is.\"\n",
    "Not even injury appeared to hold back Mahomes in the postseason, when he played in the AFC title match against the Cincinnati Bengals just eight days after suffering a high ankle sprain in the Chiefs' divisional round win.\n",
    "With the game tied and seconds left on the clock in the fourth quarter, he produced a heroic sprint that ultimately helped put kicker Harrison Butker within range.\n",
    "\"I know he was hurting - I know that. He's so mentally tough,\" head coach Andy Reid told reporters at the Super Bowl Opening Night on Monday. \"That run that he made at the end, that was the fastest he's run all year.\"\n",
    "Cornerback James Bradberry said that it would take everything in the Eagles arsenal to stop Mahomes from collecting his second Super Bowl ring.\n",
    "\"You just have to be aware of how dominant he can be. You want to make sure you can contain him, eliminate what he's able to do,\" he told reporters on Tuesday.\n",
    "\"You just want to make sure you put guys in his face. That's what our defensive line has been doing all year.\" \"\"\"\n",
    "\n",
    "sp4 = \"\"\"Los Angeles Lakers forward LeBron James surpassed Kareem Abdul-Jabbar to become the NBA's all-time leading scorer on Tuesday, setting the new mark with a fadeaway jumpshot late in the third quarter of a home game against the Oklahoma City Thunder.\n",
    "'King James', who entered the game needing 36 points to break Abdul-Jabbar’s record of 38,387, sent the sold-out crowd into a frenzy when the ball splashed through the net, raising his arms in triumph as his team mates embraced him.\n",
    "Lakers great Abdul-Jabbar, who took the title from Wilt Chamberlain with his signature skyhook on April 5, 1984, sat courtside at Tuesday's game and stood to applaud James after the record was broken.\n",
    "Play was stopped to recognize the achievement and to let James address the crowd.\n",
    "\"I just want to say thank you to the Laker faithful, you guys are one of a kind,\" James said.\n",
    "\"To be able to be in the presence of such a legend as Kareem is unbelievable, it's very humbling. Please give a standing ovation to 'The Captain.'\"\n",
    "Tributes from his family, U.S. President Joe Biden and students from his \"I Promise School\" were played inside the arena, while NBA Commissioner Adam Silver told Reuters it was an \"historic moment\".\n",
    "\"These types of significant milestones capture the attention of not only basketball fans but broader society,\" Silver said.\n",
    "\"LeBron's pursuit of the scoring record is no exception and billions of people will become aware of this milestone.\"\n",
    "All season long it has been a question of when, not if, James would topple the record. Some thought it may come during Thursday's home game against Milwaukee but James had other ideas.\n",
    "Arriving at the arena in a jet black suit, black shirt and dark sunglasses, James looked like he was going to a funeral.\n",
    "Hours later, he buried Abdul-Jabbar's record.\n",
    "A deafening roar greeted him during the pre-game introductions and another came when he buried a three-pointer five minutes into the opening quarter for his first points of the night.\n",
    "He cut the number he needed to single digits on a straightway three in the second half that sent fans leaping from their seats before the 21-foot, history-making bucket arrived with 10 seconds remaining in the third quarter.\n",
    "\"It's so surreal, because it's something I never made a goal of mine or something I set out to do,\" James said after the game. \"It just happened.\"\n",
    "Drafted into the league as a teenager, the Akron, Ohio native has more than delivered on the massive expectations put on his broad shoulders at a young age.\n",
    "A versatile forward, he helping usher in the era of position-less basketball, winning four titles with three different teams, four MVP awards and four Finals MVP awards.\n",
    "James sits top of the regular season points list followed by Abdul-Jabbar with Utah Jazz great Karl Malone (36,928), late Lakers legend Kobe Bryant (33,643) and Chicago Bulls icon Michael Jordan (32,292) rounding out the top five.\n",
    "\"When I read about the history of the game I never thought that this record would ever be touched,\" James said.\n",
    "\"I just didn't think nobody would have that type of longevity to come out on the floor and play at that level for so long.\n",
    "\"So it's just a complete honor to be a part of this league, to be a part of some of the greats that have ever played this game and to be right at the apex with them.\"\n",
    "Last month, the 38-year-old was named to a record-tying 19th All Star game, a mark also held by Abdul-Jabbar.\n",
    "\"For sure I know I can play a couple more years,\" James said.\n",
    "\"The way I'm feeling, the way my body has been reacting to me throughout the course of this season, I know I can play a couple more years.\n",
    "\"It's all about my mind. My mind is still into it and I am still motivated to go out and try to compete for championships because I feel like that's what I can still do.\"\n",
    "Despite James' historic night, the Lakers fell 133-130 to the Thunder and are now 25-30 on the season.\"\"\""
   ]
  },
  {
   "cell_type": "code",
   "execution_count": 505,
   "metadata": {},
   "outputs": [],
   "source": [
    "# Make sure you have scikit-learn installed. \n",
    "from sklearn.feature_extraction.text import CountVectorizer\n",
    "\n",
    "articles = []\n",
    "for f in [sp0, sp1, sp2, sp3, sp4]:\n",
    "    text = f.replace('\\n', ' ')\n",
    "    articles.append(text)\n",
    "vrizer = CountVectorizer(vocabulary=vocabulary)\n",
    "new_data = vrizer.fit_transform(articles)"
   ]
  },
  {
   "cell_type": "markdown",
   "metadata": {},
   "source": [
    "(1) Run the classifier from step (1) to predict the classes of the articles in `new_data`. Print out the class predictions.\n",
    "\n",
    "What classes to you think these 5 articles should belong to, based on your own judgement of their content? Can your classifer make an appropriate class prediction for these 5 articles? Analyse the reason for your answers in your report."
   ]
  },
  {
   "cell_type": "code",
   "execution_count": 510,
   "metadata": {},
   "outputs": [
    {
     "name": "stdout",
     "output_type": "stream",
     "text": [
      "Article 1: class 0\n",
      "Article 2: class 1\n",
      "Article 3: class 2\n",
      "Article 4: class 0\n",
      "Article 5: class 0\n"
     ]
    }
   ],
   "source": [
    "prediction = knn_classify(new_data, training_data, training_labels, 'cosine', 3)\n",
    "print(\"Article 1: class\", prediction[0])\n",
    "print(\"Article 2: class\", prediction[1])\n",
    "print(\"Article 3: class\", prediction[2])\n",
    "print(\"Article 4: class\", prediction[3])\n",
    "print(\"Article 5: class\", prediction[4])"
   ]
  },
  {
   "cell_type": "markdown",
   "metadata": {},
   "source": [
    "(2) Introduce a new class, `sport`, to your dataset. The class should contain the 5 articles as above. Add this to your data using the command below. Your new data contains 805 articles, 800 from the original dataset and 5 from the `new_data`, belonging to 5 classes: 200 articles from each of the first 4 classes and 5 articles from the 5th class.\n",
    "\n",
    "Randomly split the new data into a training set containing **100 articles each from 'earn', 'crude', 'trade', and 'interest', and then only 3 articles from 'sport'** (you should be able to use the `sample_indices` function given at the start). Reserve the remaining articles for testing. Test the performance of the new 3-NN classifier.\n",
    "\n",
    "Print the confusion matrix and classification accuracy for the testing data."
   ]
  },
  {
   "cell_type": "code",
   "execution_count": 420,
   "metadata": {},
   "outputs": [
    {
     "name": "stdout",
     "output_type": "stream",
     "text": [
      "Running Experiment 3\n",
      " \n",
      "Confusion Matrix: \n",
      "[[ 385   17]\n",
      " [  17 1191]]\n",
      " \n",
      "True Positive:  385\n",
      "True Negative:  1191\n",
      "False Positive:  17\n",
      "False Negative:  17\n",
      " \n",
      "Overall Accuracy: 0.9788819875776398\n"
     ]
    }
   ],
   "source": [
    "# introduce new sports class (4)\n",
    "data_augmented = scipy.sparse.vstack((data, new_data))\n",
    "labels_augmented = np.append(labels, [4,4,4,4,4])\n",
    "\n",
    "# Randomly select 100 articles per class for training and use rest for testing\n",
    "training_indices = sample_indices(labels_augmented, 100, 100, 100, 100, 3)\n",
    "testing_indices = np.setdiff1d(np.arange(data_augmented.shape[0]), training_indices)\n",
    "\n",
    "# finds training and testing data and labels using indicies above\n",
    "training_data = data_augmented[training_indices]\n",
    "testing_data = data_augmented[testing_indices]\n",
    "training_labels = labels_augmented[training_indices]\n",
    "testing_labels = labels_augmented[testing_indices]\n",
    "\n",
    "# predicts labels of testing data based on training data and labels\n",
    "prediction_labels = knn_classify(testing_data, training_data, training_labels, \"cosine\", 3)\n",
    "\n",
    "print(\"Running Experiment 3\")                                                                    \n",
    "confusion_matrix = confusion_matrixes(prediction_labels, testing_labels)\n",
    "print(\" \")\n",
    "\n",
    "print(\"Confusion Matrix: \")\n",
    "print(confusion_matrix)\n",
    "print(\" \")\n",
    "\n",
    "true_positive = confusion_matrix[0,0]\n",
    "true_negative = confusion_matrix[1,1]\n",
    "false_positive = confusion_matrix[0,1]\n",
    "false_negative = confusion_matrix[1,0]\n",
    "\n",
    "print(\"True Positive: \", true_positive)\n",
    "print(\"True Negative: \", true_negative)\n",
    "print(\"False Positive: \", false_positive)\n",
    "print(\"False Negative: \", false_negative)\n",
    "print(\" \")\n",
    "\n",
    "#accuracy calculation\n",
    "accuracy = (true_positive + true_negative)/ (true_positive + true_negative + false_positive + false_negative)\n",
    "print(\"Overall Accuracy:\", accuracy)\n"
   ]
  },
  {
   "cell_type": "markdown",
   "metadata": {},
   "source": [
    "(3) Repeat the above process 6 times, repeating the random train-test split. For each of the 5 classes, print out its averaged testing accuracy. Comment on your classifier's performance in your report. What are the consequences of having no training data and limited training data for the 'sports' class? "
   ]
  },
  {
   "cell_type": "code",
   "execution_count": 474,
   "metadata": {},
   "outputs": [
    {
     "name": "stdout",
     "output_type": "stream",
     "text": [
      "Running Experiment 3\n",
      "Confusion Matrix for Class 1: \n",
      "[[ 97   5]\n",
      " [  3 297]]\n",
      " \n",
      "Accuracy for Class 1: 0.9800995024875622\n",
      "Confusion Matrix for Class 2: \n",
      "[[ 97   3]\n",
      " [  3 299]]\n",
      " \n",
      "Accuracy for Class 2: 0.9850746268656716\n",
      "Confusion Matrix for Class 3: \n",
      "[[ 95   3]\n",
      " [  5 299]]\n",
      " \n",
      "Accuracy for Class 3: 0.9800995024875622\n",
      "Confusion Matrix for Class 4: \n",
      "[[ 99   2]\n",
      " [  1 300]]\n",
      " \n",
      "Accuracy for Class 4: 0.9925373134328358\n",
      "Confusion Matrix for Class 5: \n",
      "[[  1   0]\n",
      " [  1 400]]\n",
      " \n",
      "Accuracy for Class 5: 0.9975124378109452\n",
      "Overall Accuracy: 0.9870646766169153\n"
     ]
    }
   ],
   "source": [
    "def confusion_matrixes_class(prediction_labels, testing_labels):\n",
    "\n",
    "    confusion_matrix = [np.array([[0,0], [0,0]]),\n",
    "                        np.array([[0,0], [0,0]]),\n",
    "                        np.array([[0,0], [0,0]]),\n",
    "                        np.array([[0,0], [0,0]]),\n",
    "                        np.array([[0,0], [0,0]])]\n",
    "    for i in range(0, len(prediction_labels)):\n",
    "        if prediction_labels[i] == testing_labels[i]:\n",
    "            #true positive\n",
    "            confusion_matrix[prediction_labels[i]][0,0] += 1\n",
    "            for n in range(0,5):\n",
    "                if n!= prediction_labels[i]:\n",
    "                    #true negative\n",
    "                    confusion_matrix[n][1,1] += 1\n",
    "        else:\n",
    "            #false positive\n",
    "            confusion_matrix[prediction_labels[i]][0,1] += 1\n",
    "            #false negative\n",
    "            confusion_matrix[testing_labels[i]][1,0] += 1\n",
    "            for n in range(0,5):\n",
    "                if n!= prediction_labels[i] and n != testing_labels[i]:\n",
    "                    confusion_matrix[n][1,1] +=1\n",
    "    return confusion_matrix[0], confusion_matrix[1], confusion_matrix[2], confusion_matrix[3], confusion_matrix[4]\n",
    "\n",
    "print(\"Running Experiment 3\")  \n",
    "# 6 trials\n",
    "for i in range(0,6):\n",
    "    training_indices = sample_indices(labels_augmented, 100, 100, 100, 100, 3)\n",
    "    testing_indices = np.setdiff1d(np.arange(data_augmented.shape[0]), training_indices)\n",
    "\n",
    "    training_data = data_augmented[training_indices]\n",
    "    testing_data = data_augmented[testing_indices]\n",
    "    training_labels = labels_augmented[training_indices]\n",
    "    testing_labels = labels_augmented[testing_indices]\n",
    "\n",
    "    prediction_labels = knn_classify(testing_data, training_data, training_labels, \"cosine\", 3)                                                                   \n",
    "    confusion_matrix0, confusion_matrix1, confusion_matrix2, confusion_matrix3, confusion_matrix4 = confusion_matrixes_class(prediction_labels, testing_labels)\n",
    "\n",
    "print(\"Confusion Matrix for Class 1: \")\n",
    "print(confusion_matrix0)\n",
    "print(\" \")\n",
    "\n",
    "true_positive0 = confusion_matrix0[0,0]\n",
    "true_negative0 = confusion_matrix0[1,1]\n",
    "false_positive0 = confusion_matrix0[0,1]\n",
    "false_negative0 = confusion_matrix0[1,0]\n",
    "\n",
    "#accuracy calculation\n",
    "accuracy0 = (true_positive0 + true_negative0)/ (true_positive0 + true_negative0 + false_positive0 + false_negative0)\n",
    "print(\"Accuracy for Class 1:\", accuracy0)\n",
    "\n",
    "print(\"Confusion Matrix for Class 2: \")\n",
    "print(confusion_matrix1)\n",
    "print(\" \")\n",
    "\n",
    "true_positive1 = confusion_matrix1[0,0]\n",
    "true_negative1 = confusion_matrix1[1,1]\n",
    "false_positive1 = confusion_matrix1[0,1]\n",
    "false_negative1 = confusion_matrix1[1,0]\n",
    "\n",
    "#accuracy calculation\n",
    "accuracy1 = (true_positive1 + true_negative1)/ (true_positive1 + true_negative1 + false_positive1 + false_negative1)\n",
    "print(\"Accuracy for Class 2:\", accuracy1)\n",
    "\n",
    "print(\"Confusion Matrix for Class 3: \")\n",
    "print(confusion_matrix2)\n",
    "print(\" \")\n",
    "\n",
    "true_positive2 = confusion_matrix2[0,0]\n",
    "true_negative2 = confusion_matrix2[1,1]\n",
    "false_positive2 = confusion_matrix2[0,1]\n",
    "false_negative2 = confusion_matrix2[1,0]\n",
    "\n",
    "#accuracy calculation\n",
    "accuracy2= (true_positive2 + true_negative2)/ (true_positive2 + true_negative2 + false_positive2 + false_negative2)\n",
    "print(\"Accuracy for Class 3:\", accuracy2)\n",
    "\n",
    "print(\"Confusion Matrix for Class 4: \")\n",
    "print(confusion_matrix3)\n",
    "print(\" \")\n",
    "\n",
    "true_positive3 = confusion_matrix3[0,0]\n",
    "true_negative3 = confusion_matrix3[1,1]\n",
    "false_positive3 = confusion_matrix3[0,1]\n",
    "false_negative3 = confusion_matrix3[1,0]\n",
    "\n",
    "#accuracy calculation\n",
    "accuracy3 = (true_positive3 + true_negative3)/ (true_positive3 + true_negative3 + false_positive3 + false_negative3)\n",
    "print(\"Accuracy for Class 4:\", accuracy3)\n",
    "\n",
    "print(\"Confusion Matrix for Class 5: \")\n",
    "print(confusion_matrix4)\n",
    "print(\" \")\n",
    "\n",
    "true_positive4 = confusion_matrix4[0,0]\n",
    "true_negative4 = confusion_matrix4[1,1]\n",
    "false_positive4 = confusion_matrix4[0,1]\n",
    "false_negative4 = confusion_matrix4[1,0]\n",
    "\n",
    "#accuracy calculation\n",
    "accuracy4 = (true_positive4 + true_negative4)/ (true_positive4 + true_negative4 + false_positive4 + false_negative4)\n",
    "print(\"Accuracy for Class 5:\", accuracy4)\n",
    "\n",
    "print(\"Overall Accuracy:\", (accuracy0 + accuracy1 + accuracy2 + accuracy3 + accuracy4)/5)"
   ]
  },
  {
   "cell_type": "markdown",
   "metadata": {},
   "source": [
    "(4) Self-learn the concepts of zero-shot learning and few-shot learning. In your report, link these concepts to the experiments you've just performed. Is your model performing zero- or few-shot learning? Explain your reasoning. "
   ]
  },
  {
   "cell_type": "markdown",
   "metadata": {},
   "source": [
    "## 5. Result Analysis (4 Marks in Total)\n",
    "\n",
    "### Analysis 1 (2 Marks, Normal)\n",
    "Choose a training-testing trial in Experiment 2 for $k=1$. Observe the testing error of this 1-NN, and estimate the interval where its true error lies with 90% probability. Explain in your report how you compute it."
   ]
  },
  {
   "cell_type": "code",
   "execution_count": 477,
   "metadata": {},
   "outputs": [
    {
     "name": "stdout",
     "output_type": "stream",
     "text": [
      "Running Analysis 1\n",
      "Testing Error of 1-NN: 0.0357291666666667\n",
      "Interval where true error lies with 90% probability for k=1: ( 0.0218349461218803 , 0.0496233872114531 )\n"
     ]
    }
   ],
   "source": [
    "accuracies = []\n",
    "for i in range(20):\n",
    "    training_indices = sample_indices(labels, 80, 80, 80, 80)\n",
    "    testing_indices = np.setdiff1d(np.arange(data.shape[0]), training_indices)\n",
    "\n",
    "    training_data = data[training_indices]\n",
    "    testing_data = data[testing_indices]\n",
    "    training_labels = labels[training_indices]\n",
    "    testing_labels = labels[testing_indices]\n",
    "\n",
    "    prediction_labels = knn_classify(testing_data, training_data, training_labels, \"cosine\", 1)\n",
    "    accuracy = np.sum(testing_labels == prediction_labels)\n",
    "    accuracies.append(accuracy/len(prediction_labels))\n",
    "\n",
    "print(\"Running Analysis 1\")\n",
    "\n",
    "#testing error = 1- accuracy\n",
    "error1 = 1 - (np.mean(accuracies))\n",
    "print(\"Testing Error of 1-NN:\", error1)\n",
    "\n",
    "zp = 1.64 #taken from table of zp values at 90%.\n",
    "a = zp * np.sqrt(error1 * (1-error1)/480)\n",
    "lower = error1 - a\n",
    "upper = error1 + a\n",
    "\n",
    "print(\"Interval where true error lies with 90% probability for k=1:\", \"(\", lower, ',', upper, ')')\n"
   ]
  },
  {
   "cell_type": "markdown",
   "metadata": {},
   "source": [
    "### Analysis 2 (2 Marks, Normal)\n",
    "The following function `Get_p_value()` is provided to obtain $p$ according to $z_p$. Use this function to perform Analysis 2."
   ]
  },
  {
   "cell_type": "code",
   "execution_count": 430,
   "metadata": {},
   "outputs": [],
   "source": [
    "# run this cell first\n",
    "\n",
    "def Get_p_value(zp):\n",
    "    return round(1 - scipy.stats.norm.sf(abs(zp))*2,2)"
   ]
  },
  {
   "cell_type": "code",
   "execution_count": 434,
   "metadata": {},
   "outputs": [
    {
     "name": "stdout",
     "output_type": "stream",
     "text": [
      "zp = 0.67, p =  0.5\n",
      "zp = 1, p =  0.68\n",
      "zp = 1.64, p =  0.9\n",
      "zp = 2.58, p =  0.99\n",
      "\n",
      "p =  0.33\n"
     ]
    }
   ],
   "source": [
    "# Use this cell to compare the output value of function Get_p_value with \n",
    "# the table provided in your lecture notes (e.g., Slide 12, Chapter3C.pdf)\n",
    "\n",
    "print('zp = 0.67, p = ', Get_p_value(0.67))\n",
    "print('zp = 1, p = ', Get_p_value(1))\n",
    "print('zp = 1.64, p = ', Get_p_value(1.64))\n",
    "print('zp = 2.58, p = ', Get_p_value(2.58))\n",
    "print()\n",
    "\n",
    "# you can alert the input zp value and re-run this cell to help you to calculate the corresponding p.\n",
    "print('p = ', Get_p_value(0.43))  \n",
    "\n",
    "\n",
    "# you can change 0.43 to any zp value you obtained."
   ]
  },
  {
   "cell_type": "markdown",
   "metadata": {},
   "source": [
    "Choose a training-testing trial in Experiment 2 for k=45. Observe the testing error of this 45-NN. Compare it with the 1-NN in Analysis 1. Which one has higher testing sample error? Estimate the probability that it also has higher true error. Explain your answer and how you compute it in the report.  "
   ]
  },
  {
   "cell_type": "code",
   "execution_count": 479,
   "metadata": {},
   "outputs": [
    {
     "name": "stdout",
     "output_type": "stream",
     "text": [
      "Running Analysis 2\n",
      "Testing Error of 45-NN: 0.06635416666666649\n",
      "Interval where true error lies with 90% probability for k=45: ( 0.0477226413612363 , 0.08498569197209668 )\n",
      "Probability that 45-NN has a higher probability than 1-NN: 0.985\n"
     ]
    }
   ],
   "source": [
    "accuracies = []\n",
    "for i in range(20):\n",
    "    training_indices = sample_indices(labels, 80, 80, 80, 80)\n",
    "    testing_indices = np.setdiff1d(np.arange(data.shape[0]), training_indices)\n",
    "\n",
    "    training_data = data[training_indices]\n",
    "    testing_data = data[testing_indices]\n",
    "    training_labels = labels[training_indices]\n",
    "    testing_labels = labels[testing_indices]\n",
    "\n",
    "    prediction_labels = knn_classify(testing_data, training_data, training_labels, \"cosine\", 45)\n",
    "    accuracy = np.sum(testing_labels == prediction_labels)\n",
    "    accuracies.append(accuracy/len(prediction_labels))\n",
    "\n",
    "print(\"Running Analysis 2\")\n",
    "\n",
    "#testing error = 1- accuracy\n",
    "error2 = 1 - (np.mean(accuracies))\n",
    "print(\"Testing Error of 45-NN:\", error2)\n",
    "\n",
    "zp = 1.64 #taken from table of zp values at 90%.\n",
    "a = zp * np.sqrt(error2 * (1-error2)/480)\n",
    "lower = error2 - a\n",
    "upper = error2 + a\n",
    "\n",
    "print(\"Interval where true error lies with 90% probability for k=45:\", \"(\", lower, ',', upper, \")\")\n",
    "\n",
    "#z test \n",
    "#zp = d/σ\n",
    "d = np.abs(error2-error1)\n",
    "sigma = np.sqrt((error2 * (1-error2)/480)+(error1 * (1-error1)/480))\n",
    "\n",
    "#C = 1−((1− p)/2)\n",
    "p = Get_p_value(d/sigma)\n",
    "c = 1-((1-p)/2)\n",
    "print(\"Probability that 45-NN has a higher probability than 1-NN:\", c)"
   ]
  },
  {
   "cell_type": "markdown",
   "metadata": {},
   "source": [
    "## 6. Hyperparameter Selection (4 Marks, Normal)\n",
    "\n",
    "Use your k-NN function with cosine distance. Design an appropriate and complete machine learning experiment, which should include the training, hyper-parameter selection and evaluation stages. In this case, your hyperparameter will be $k$. You can choose from the random subsampling, k-fold CV and LOO approaches for hyperparameter selection. In order to get 4 marks, you should implement this from scrach without using readily implemented data-split functions provided in existing libraries. If you decide to use existing implementation on data splitting, model selection and/or evaluation, you can get at most 2 marks. \n",
    "\n",
    "Explain in the report your strategy for splitting the data, and the design of your chosen hyperparameter selection method. Present your results and chosen value of $k$. Why is it important to split the data into train, test, and validation sets in machine learning experiments? "
   ]
  },
  {
   "cell_type": "code",
   "execution_count": 500,
   "metadata": {},
   "outputs": [
    {
     "data": {
      "image/png": "[encoded data removed]",
      "text/plain": [
       "<Figure size 432x288 with 1 Axes>"
      ]
     },
     "metadata": {
      "needs_background": "light"
     },
     "output_type": "display_data"
    }
   ],
   "source": [
    "from scipy.sparse import csr_matrix\n",
    "\n",
    "# 10-fold cross validation\n",
    "\n",
    "# function generates fold indexs and splits data set\n",
    "def fold_index(labels, num_of_fold):\n",
    "    fold_size = int(labels.size/num_of_fold)\n",
    "    fold_indices = []\n",
    "    remaining_indices = np.setdiff1d(np.arange(data.shape[0]), fold_indices)\n",
    "    for x in range(0, num_of_fold):\n",
    "        fold_indices.append(np.random.choice(remaining_indices, size=fold_size, replace=False))\n",
    "        remaining_indices = np.setdiff1d(np.arange(data.shape[0]), fold_indices)\n",
    "    return np.array(fold_indices)\n",
    "\n",
    "mean_accuracy = []\n",
    "mean_errors = []\n",
    "std = []\n",
    "\n",
    "# 20 trials\n",
    "for k in range(1,21):\n",
    "    # generates 10 folds\n",
    "    fold_indices = fold_index(labels, 10)\n",
    "    \n",
    "    training_sets_data = []\n",
    "    testing_sets_data = []\n",
    "    training_sets_labels = []\n",
    "    testing_sets_labels = []\n",
    "    \n",
    "    # loops over all combinations of 9 training sets and 1 testing set\n",
    "    for i in range(0,10):\n",
    "        each_training_set_data = np.empty(shape = (0, data[fold_indices[i]].toarray().shape[1]), dtype = int)\n",
    "        each_training_set_labels = np.empty(shape = 0, dtype = int)\n",
    "        \n",
    "        for j in range(0,10):\n",
    "            if j == i:\n",
    "                each_testing_set_data = data[fold_indices[j]]\n",
    "                each_testing_labels = labels[fold_indices[j]]\n",
    "            else:\n",
    "                each_training_set_data = np.concatenate((each_training_set_data, data[fold_indices[j]].toarray()), axis = 0)\n",
    "                each_training_set_labels = np.concatenate((each_training_set_labels, labels[fold_indices[j]]), axis = 0)\n",
    "        each_testing_set_data = csr_matrix(each_testing_set_data)\n",
    "        each_training_set_data = csr_matrix(each_training_set_data)\n",
    "    \n",
    "        training_sets_data.append(each_training_set_data)\n",
    "        testing_sets_data.append(each_testing_set_data)\n",
    "        training_sets_labels.append(each_training_set_labels)\n",
    "        testing_sets_labels.append(each_testing_labels)\n",
    "    \n",
    "    accuracies = []\n",
    "    for i in range(0, 10):\n",
    "        training_data = training_sets_data[i]\n",
    "        training_labels = training_sets_labels[i]\n",
    "        testing_data = testing_sets_data[i]\n",
    "        testing_labels = testing_sets_labels[i]\n",
    "                                                        \n",
    "        prediction = knn_classify(testing_data, training_data, training_labels, \"cosine\", k)\n",
    "        accuracies.append(np.sum(prediction == testing_labels)/len(prediction))\n",
    "    accuracy = np.array(accuracies)\n",
    "    \n",
    "    mean_accuracy.append(np.mean(accuracy))\n",
    "    mean_errors.append(1-(np.mean(accuracy)))\n",
    "    std.append(np.std(accuracy))\n",
    "\n",
    "plt.title(\"Average testing error rate for k values 1-20 with 10-fold cross validation\")\n",
    "plt.ylabel(\"Average testing error rate\")\n",
    "plt.xlabel(\"k\")\n",
    "plt.errorbar(range(1,21), mean_errors , yerr = std)\n",
    "plt.show()"
   ]
  },
  {
   "cell_type": "code",
   "execution_count": null,
   "metadata": {},
   "outputs": [],
   "source": []
  },
  {
   "cell_type": "code",
   "execution_count": null,
   "metadata": {},
   "outputs": [],
   "source": []
  }
 ],
 "metadata": {
  "kernelspec": {
   "display_name": "Python 3 (ipykernel)",
   "language": "python",
   "name": "python3"
  },
  "language_info": {
   "codemirror_mode": {
    "name": "ipython",
    "version": 3
   },
   "file_extension": ".py",
   "mimetype": "text/x-python",
   "name": "python",
   "nbconvert_exporter": "python",
   "pygments_lexer": "ipython3",
   "version": "3.9.6"
  }
 },
 "nbformat": 4,
 "nbformat_minor": 4
}
